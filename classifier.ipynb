{
 "cells": [
  {
   "cell_type": "markdown",
   "metadata": {},
   "source": [
    "# Training XGBoost classifier"
   ]
  },
  {
   "cell_type": "code",
   "execution_count": 1,
   "metadata": {},
   "outputs": [
    {
     "name": "stderr",
     "output_type": "stream",
     "text": [
      "/opt/homebrew/Caskroom/miniforge/base/lib/python3.9/site-packages/xgboost/compat.py:36: FutureWarning: pandas.Int64Index is deprecated and will be removed from pandas in a future version. Use pandas.Index with the appropriate dtype instead.\n",
      "  from pandas import MultiIndex, Int64Index\n"
     ]
    }
   ],
   "source": [
    "import pandas as pd\n",
    "\n",
    "from sklearn.metrics import classification_report\n",
    "from sklearn.preprocessing import StandardScaler\n",
    "\n",
    "from sklearn.model_selection import train_test_split, GridSearchCV\n",
    "from sklearn.feature_extraction.text import TfidfVectorizer\n",
    "from sklearn.base import BaseEstimator, TransformerMixin\n",
    "from sklearn.pipeline import Pipeline, FeatureUnion\n",
    "from sklearn.preprocessing import StandardScaler\n",
    "from sklearn.ensemble import RandomForestClassifier\n",
    "\n",
    "from sklearn.metrics import f1_score, classification_report\n",
    "from sklearn.metrics import roc_curve, auc\n",
    "from sklearn.metrics import f1_score, classification_report\n",
    "from sklearn.metrics import precision_recall_curve\n",
    "\n",
    "import plotly.express as px\n",
    "import plotly.figure_factory as ff\n",
    "\n",
    "from sklearn import metrics\n",
    "from xgboost import XGBClassifier\n",
    "\n",
    "import warnings\n",
    "warnings.filterwarnings(\"ignore\")"
   ]
  },
  {
   "cell_type": "code",
   "execution_count": 2,
   "metadata": {},
   "outputs": [],
   "source": [
    "df = pd.read_csv('cleaned_data.csv', encoding='utf-8')\n",
    "df = df.fillna('')    # Occured due to few empty strings"
   ]
  },
  {
   "cell_type": "code",
   "execution_count": 3,
   "metadata": {},
   "outputs": [],
   "source": [
    "# Building TF-IDF Vector\n",
    "vec_tdidf = TfidfVectorizer(ngram_range=(1,1), analyzer='word', norm='l2')"
   ]
  },
  {
   "cell_type": "code",
   "execution_count": 4,
   "metadata": {},
   "outputs": [],
   "source": [
    "# XGB Classifier \n",
    "clf = XGBClassifier(random_state=42, seed=2, colsample_bytree=0.6, subsample=0.7)"
   ]
  },
  {
   "cell_type": "code",
   "execution_count": 22,
   "metadata": {},
   "outputs": [],
   "source": [
    "# Making Class for fetching and transforming data\n",
    "class TextSelector(BaseEstimator, TransformerMixin): \n",
    "  def __init__(self, key):\n",
    "    self.key = key\n",
    "\n",
    "  def fit(self, X, y=None, *parg, **kwarg):\n",
    "    return self\n",
    "\n",
    "  def transform(self, X):\n",
    "    print(type(X))\n",
    "    return X[self.key]\n",
    "  \n",
    "class NumberSelector(BaseEstimator, TransformerMixin):\n",
    "  def __init__(self, key):\n",
    "    self.key = key\n",
    "\n",
    "  def fit(self, X, y=None):\n",
    "    return self\n",
    "\n",
    "  def transform(self, X):\n",
    "    return X[[self.key]]"
   ]
  },
  {
   "cell_type": "code",
   "execution_count": 23,
   "metadata": {},
   "outputs": [],
   "source": [
    "# Text data as feature\n",
    "body = Pipeline([\n",
    "                  ('selector', TextSelector(key='body')),\n",
    "                  ('vectorizer', vec_tdidf)\n",
    "                ])\n",
    "      \n",
    "subject = Pipeline([\n",
    "                  ('selector', TextSelector(key='subject')),\n",
    "                  ('vectorizer', vec_tdidf)\n",
    "                ])\n",
    "\n",
    "no_of_urls = Pipeline([\n",
    "  ('selector', NumberSelector(key='no_of_urls')),\n",
    "  ('sc', StandardScaler())\n",
    "])\n",
    "\n",
    "image_url = Pipeline([\n",
    "  ('selector', NumberSelector(key='image_url')),\n",
    "  ('sc', StandardScaler())\n",
    "])\n",
    "\n",
    "# Merging numeric and text features\n",
    "feats = FeatureUnion([\n",
    "  ('body', body),\n",
    "  ('subject', subject),\n",
    "  ('no_of_urls', no_of_urls),\n",
    "  ('image_url', image_url)\n",
    "])"
   ]
  },
  {
   "cell_type": "code",
   "execution_count": 24,
   "metadata": {},
   "outputs": [],
   "source": [
    "# Defining the final pipeline\n",
    "pipe = Pipeline([\n",
    "  ('feats', feats),\n",
    "  ('clf', clf)\n",
    "])"
   ]
  },
  {
   "cell_type": "code",
   "execution_count": 25,
   "metadata": {},
   "outputs": [],
   "source": [
    "features = df[['body', 'subject', 'no_of_urls', 'image_url']]\n",
    "labels = df['label']\n",
    "X_train, X_test, y_train, y_test = train_test_split(features, labels, test_size=0.3, random_state=42, stratify=labels)"
   ]
  },
  {
   "cell_type": "code",
   "execution_count": 14,
   "metadata": {},
   "outputs": [],
   "source": [
    "# Grid Search\n",
    "param_grid = {\n",
    "     'clf__n_estimators': [50], \n",
    "     'clf__colsample_bytree': [0.6],\n",
    "     'clf__subsample': [0.9]\n",
    "}"
   ]
  },
  {
   "cell_type": "code",
   "execution_count": 15,
   "metadata": {},
   "outputs": [],
   "source": [
    "grid_search = GridSearchCV(estimator = pipe, param_grid = param_grid, cv = 3, n_jobs = 1, verbose = 0, return_train_score=True)"
   ]
  },
  {
   "cell_type": "code",
   "execution_count": null,
   "metadata": {},
   "outputs": [],
   "source": [
    "grid_search.fit(X_train, y_train)"
   ]
  },
  {
   "cell_type": "code",
   "execution_count": 17,
   "metadata": {},
   "outputs": [
    {
     "data": {
      "text/plain": [
       "{'clf__colsample_bytree': 0.6, 'clf__n_estimators': 50, 'clf__subsample': 0.9}"
      ]
     },
     "execution_count": 17,
     "metadata": {},
     "output_type": "execute_result"
    }
   ],
   "source": [
    "grid_search.best_params_"
   ]
  },
  {
   "cell_type": "code",
   "execution_count": 18,
   "metadata": {},
   "outputs": [],
   "source": [
    "clf_test = grid_search.best_estimator_\n",
    "preds = clf_test.predict(X_test)\n",
    "train_preds = clf_test.predict(X_train)"
   ]
  },
  {
   "cell_type": "markdown",
   "metadata": {},
   "source": [
    "## Model Evaluation"
   ]
  },
  {
   "cell_type": "code",
   "execution_count": 19,
   "metadata": {},
   "outputs": [],
   "source": [
    "def plot_graphs(model, preds):\n",
    "  \n",
    "  # Confusion matrix\n",
    "  test_prob = model.predict_proba(X_test)[:, 1]\n",
    "  fpr, tpr, thresholds = roc_curve(y_test, test_prob)\n",
    "  confusion_matrix_test = metrics.confusion_matrix(y_test, preds)\n",
    "\n",
    "  # ROC curve\n",
    "  fig = px.area(\n",
    "    x=fpr, y=tpr,\n",
    "    title=f'ROC Curve (AUC={auc(fpr, tpr):.4f})',\n",
    "    labels=dict(x='False Positive Rate', y='True Positive Rate')\n",
    "  )\n",
    "\n",
    "  fig.update_yaxes(scaleanchor=\"x\", scaleratio=1)\n",
    "  fig.update_xaxes(constrain='domain')\n",
    "  fig.show()\n",
    "\n",
    "  # Confusion matrix as Heatmap\n",
    "  hm = ff.create_annotated_heatmap(\n",
    "    confusion_matrix_test,\n",
    "    annotation_text=confusion_matrix_test,\n",
    "    x=['Predicted YES', 'Predicted NO'],\n",
    "    y=['Actual YES', 'Actual NO']\n",
    "  )\n",
    "  hm.show()\n",
    "\n",
    "  thresh_df = pd.DataFrame({\n",
    "    'False Positive Rate': fpr,\n",
    "    'True Positive Rate': tpr\n",
    "  }, index=thresholds)\n",
    "  thresh_df.index.name = 'Thresholds'\n",
    "  thresh_df.columns.name = 'Rate'\n",
    "\n",
    "  fig_thresh = px.line(\n",
    "    thresh_df, title='TPR & FPR at every threshold'\n",
    "  )\n",
    "  fig_thresh.update_yaxes(scaleanchor=\"x\", scaleratio=1)\n",
    "  fig_thresh.update_xaxes(range=[0, 1], constrain='domain')\n",
    "  fig_thresh.show()\n",
    "\n",
    "  precision, recall, thresholds = precision_recall_curve(y_test, test_prob)\n",
    "\n",
    "  pr_curve = px.area(\n",
    "    x=recall, y=precision, \n",
    "    title=f'Precision-Recall Curve (AUC={auc(fpr, tpr):.4f})',\n",
    "    labels=dict(x='Recall', y='Precision')\n",
    "  )  \n",
    "\n",
    "  pr_curve.add_shape(\n",
    "    type='line', line=dict(dash='dash'),\n",
    "    x0=0, x1=1, y0=1, y1=0\n",
    "  )\n",
    "\n",
    "  pr_curve.update_yaxes(scaleanchor=\"x\", scaleratio=1)\n",
    "  pr_curve.update_xaxes(constrain='domain')\n",
    "  pr_curve.show()"
   ]
  },
  {
   "cell_type": "code",
   "execution_count": 20,
   "metadata": {},
   "outputs": [],
   "source": [
    "def evaluate():\n",
    "  print('Train Accuracy >> %.3f' % metrics.accuracy_score(y_train, train_preds))\n",
    "  print('Test Accuracy >> %.3f' % metrics.accuracy_score(y_test, preds))\n",
    "  print('Train f1_score >> %.3f' % f1_score(y_train, train_preds))\n",
    "  print('Test f1_score >> %.3f' % f1_score(y_test, preds))\n",
    "\n",
    "  print(classification_report(y_test, preds))\n",
    "  \n",
    "  plot_graphs(clf_test, preds)"
   ]
  },
  {
   "cell_type": "code",
   "execution_count": 21,
   "metadata": {},
   "outputs": [
    {
     "name": "stdout",
     "output_type": "stream",
     "text": [
      "Train Accuracy >> 0.998\n",
      "Test Accuracy >> 0.994\n",
      "Train f1_score >> 0.998\n",
      "Test f1_score >> 0.994\n",
      "              precision    recall  f1-score   support\n",
      "\n",
      "           0       0.99      1.00      0.99       765\n",
      "           1       1.00      0.99      0.99       675\n",
      "\n",
      "    accuracy                           0.99      1440\n",
      "   macro avg       0.99      0.99      0.99      1440\n",
      "weighted avg       0.99      0.99      0.99      1440\n",
      "\n"
     ]
    },
    {
     "data": {
      "application/vnd.plotly.v1+json": {
       "config": {
        "plotlyServerURL": "https://plot.ly"
       },
       "data": [
        {
         "fillpattern": {
          "shape": ""
         },
         "hovertemplate": "False Positive Rate=%{x}<br>True Positive Rate=%{y}<extra></extra>",
         "legendgroup": "",
         "line": {
          "color": "#636efa"
         },
         "marker": {
          "symbol": "circle"
         },
         "mode": "lines",
         "name": "",
         "orientation": "v",
         "showlegend": false,
         "stackgroup": "1",
         "type": "scatter",
         "x": [
          0,
          0,
          0,
          0,
          0,
          0,
          0,
          0,
          0,
          0,
          0,
          0,
          0,
          0,
          0,
          0,
          0,
          0,
          0,
          0,
          0,
          0,
          0,
          0,
          0,
          0,
          0,
          0,
          0,
          0,
          0,
          0,
          0,
          0,
          0,
          0,
          0,
          0,
          0,
          0,
          0,
          0,
          0,
          0,
          0,
          0,
          0,
          0,
          0,
          0,
          0,
          0,
          0,
          0,
          0,
          0,
          0,
          0,
          0,
          0,
          0,
          0,
          0,
          0,
          0,
          0,
          0,
          0,
          0,
          0,
          0,
          0,
          0,
          0,
          0,
          0,
          0,
          0,
          0,
          0,
          0,
          0,
          0,
          0,
          0,
          0,
          0,
          0,
          0,
          0,
          0,
          0,
          0,
          0,
          0,
          0,
          0,
          0,
          0,
          0,
          0,
          0,
          0,
          0,
          0,
          0,
          0,
          0,
          0,
          0,
          0,
          0,
          0,
          0,
          0,
          0,
          0,
          0,
          0,
          0,
          0,
          0,
          0,
          0,
          0,
          0,
          0,
          0,
          0,
          0,
          0,
          0,
          0,
          0,
          0,
          0,
          0,
          0,
          0,
          0,
          0,
          0,
          0,
          0,
          0,
          0,
          0,
          0,
          0,
          0,
          0,
          0,
          0,
          0.00130718954248366,
          0.00261437908496732,
          0.00261437908496732,
          0.00392156862745098,
          0.00392156862745098,
          0.00522875816993464,
          0.00522875816993464,
          0.00784313725490196,
          0.00784313725490196,
          0.01045751633986928,
          0.011764705882352941,
          0.011764705882352941,
          0.02091503267973856,
          0.02483660130718954,
          0.027450980392156862,
          0.030065359477124184,
          0.09281045751633987,
          0.10980392156862745,
          0.11764705882352941,
          0.12287581699346405,
          0.14248366013071895,
          0.1450980392156863,
          0.1477124183006536,
          0.15294117647058825,
          0.15555555555555556,
          0.16339869281045752,
          0.16862745098039217,
          0.17777777777777778,
          0.1843137254901961,
          0.1869281045751634,
          0.23921568627450981,
          0.24183006535947713,
          0.24836601307189543,
          0.25098039215686274,
          0.26405228758169935,
          0.27058823529411763,
          0.2758169934640523,
          0.2797385620915033,
          0.28104575163398693,
          0.28366013071895424,
          0.3437908496732026,
          0.3464052287581699,
          0.35947712418300654,
          0.36470588235294116,
          0.3790849673202614,
          0.38169934640522873,
          0.3843137254901961,
          0.45098039215686275,
          0.46143790849673205,
          0.465359477124183,
          0.4875816993464052,
          0.49019607843137253,
          0.4980392156862745,
          0.5045751633986928,
          0.5084967320261438,
          0.5176470588235295,
          0.5568627450980392,
          0.5594771241830065,
          0.5790849673202615,
          0.5843137254901961,
          0.5856209150326798,
          0.5882352941176471,
          0.6,
          0.6026143790849673,
          0.6588235294117647,
          0.661437908496732,
          0.6692810457516339,
          0.6718954248366014,
          0.738562091503268,
          0.7411764705882353,
          0.7607843137254902,
          0.7607843137254902,
          0.7620915032679738,
          0.7647058823529411,
          0.8836601307189542,
          0.8862745098039215,
          0.9359477124183007,
          0.938562091503268,
          1
         ],
         "xaxis": "x",
         "y": [
          0,
          0.0014814814814814814,
          0.002962962962962963,
          0.005925925925925926,
          0.007407407407407408,
          0.01037037037037037,
          0.014814814814814815,
          0.017777777777777778,
          0.023703703703703703,
          0.02962962962962963,
          0.037037037037037035,
          0.04,
          0.047407407407407405,
          0.05037037037037037,
          0.06518518518518518,
          0.07407407407407407,
          0.07703703703703704,
          0.08296296296296296,
          0.08444444444444445,
          0.09037037037037036,
          0.09333333333333334,
          0.09481481481481481,
          0.10222222222222223,
          0.10518518518518519,
          0.11259259259259259,
          0.11555555555555555,
          0.1288888888888889,
          0.13333333333333333,
          0.15851851851851853,
          0.16148148148148148,
          0.16592592592592592,
          0.17185185185185184,
          0.1748148148148148,
          0.17777777777777778,
          0.18222222222222223,
          0.18518518518518517,
          0.1985185185185185,
          0.20148148148148148,
          0.21777777777777776,
          0.22666666666666666,
          0.2311111111111111,
          0.23703703703703705,
          0.25037037037037035,
          0.25333333333333335,
          0.2637037037037037,
          0.26666666666666666,
          0.2903703703703704,
          0.2962962962962963,
          0.3022222222222222,
          0.30518518518518517,
          0.30962962962962964,
          0.3111111111111111,
          0.31407407407407406,
          0.3214814814814815,
          0.3244444444444444,
          0.3274074074074074,
          0.33037037037037037,
          0.34074074074074073,
          0.3437037037037037,
          0.3496296296296296,
          0.36148148148148146,
          0.362962962962963,
          0.36592592592592593,
          0.37037037037037035,
          0.3762962962962963,
          0.38074074074074077,
          0.38814814814814813,
          0.39111111111111113,
          0.3925925925925926,
          0.3985185185185185,
          0.4014814814814815,
          0.40296296296296297,
          0.4059259259259259,
          0.4074074074074074,
          0.4103703703703704,
          0.4266666666666667,
          0.42962962962962964,
          0.43407407407407406,
          0.43703703703703706,
          0.4488888888888889,
          0.45185185185185184,
          0.4562962962962963,
          0.46074074074074073,
          0.46370370370370373,
          0.46814814814814815,
          0.4696296296296296,
          0.47555555555555556,
          0.4918518518518519,
          0.4948148148148148,
          0.5022222222222222,
          0.5051851851851852,
          0.5096296296296297,
          0.5288888888888889,
          0.5318518518518518,
          0.5348148148148149,
          0.5407407407407407,
          0.5466666666666666,
          0.5481481481481482,
          0.5511111111111111,
          0.5585185185185185,
          0.5614814814814815,
          0.5659259259259259,
          0.5762962962962963,
          0.5792592592592593,
          0.5837037037037037,
          0.5881481481481482,
          0.5911111111111111,
          0.605925925925926,
          0.6088888888888889,
          0.6488888888888888,
          0.6592592592592592,
          0.6622222222222223,
          0.6725925925925926,
          0.682962962962963,
          0.6903703703703704,
          0.6962962962962963,
          0.6977777777777778,
          0.7022222222222222,
          0.7081481481481482,
          0.7125925925925926,
          0.7214814814814815,
          0.7274074074074074,
          0.7466666666666667,
          0.7496296296296296,
          0.7659259259259259,
          0.7688888888888888,
          0.7881481481481482,
          0.794074074074074,
          0.8088888888888889,
          0.8133333333333334,
          0.8177777777777778,
          0.8207407407407408,
          0.8237037037037037,
          0.8266666666666667,
          0.8340740740740741,
          0.84,
          0.8429629629629629,
          0.845925925925926,
          0.8637037037037038,
          0.8725925925925926,
          0.8903703703703704,
          0.8933333333333333,
          0.9051851851851852,
          0.9096296296296297,
          0.9185185185185185,
          0.9214814814814815,
          0.9274074074074075,
          0.9333333333333333,
          0.9496296296296296,
          0.9525925925925925,
          0.9792592592592593,
          0.9822222222222222,
          0.9851851851851852,
          0.9896296296296296,
          0.9896296296296296,
          0.9911111111111112,
          0.9911111111111112,
          0.9925925925925926,
          0.9925925925925926,
          0.9940740740740741,
          0.9940740740740741,
          0.9955555555555555,
          0.9955555555555555,
          0.9955555555555555,
          0.997037037037037,
          0.997037037037037,
          0.9985185185185185,
          0.9985185185185185,
          0.9985185185185185,
          0.9985185185185185,
          0.9985185185185185,
          0.9985185185185185,
          0.9985185185185185,
          0.9985185185185185,
          0.9985185185185185,
          0.9985185185185185,
          0.9985185185185185,
          0.9985185185185185,
          0.9985185185185185,
          0.9985185185185185,
          0.9985185185185185,
          0.9985185185185185,
          0.9985185185185185,
          0.9985185185185185,
          0.9985185185185185,
          0.9985185185185185,
          0.9985185185185185,
          0.9985185185185185,
          0.9985185185185185,
          0.9985185185185185,
          0.9985185185185185,
          0.9985185185185185,
          0.9985185185185185,
          0.9985185185185185,
          0.9985185185185185,
          0.9985185185185185,
          0.9985185185185185,
          0.9985185185185185,
          0.9985185185185185,
          0.9985185185185185,
          0.9985185185185185,
          0.9985185185185185,
          0.9985185185185185,
          0.9985185185185185,
          0.9985185185185185,
          0.9985185185185185,
          0.9985185185185185,
          0.9985185185185185,
          0.9985185185185185,
          0.9985185185185185,
          0.9985185185185185,
          0.9985185185185185,
          0.9985185185185185,
          0.9985185185185185,
          0.9985185185185185,
          0.9985185185185185,
          0.9985185185185185,
          0.9985185185185185,
          0.9985185185185185,
          0.9985185185185185,
          0.9985185185185185,
          0.9985185185185185,
          0.9985185185185185,
          0.9985185185185185,
          1,
          1,
          1,
          1,
          1,
          1,
          1,
          1
         ],
         "yaxis": "y"
        }
       ],
       "layout": {
        "legend": {
         "tracegroupgap": 0
        },
        "template": {
         "data": {
          "bar": [
           {
            "error_x": {
             "color": "#2a3f5f"
            },
            "error_y": {
             "color": "#2a3f5f"
            },
            "marker": {
             "line": {
              "color": "#E5ECF6",
              "width": 0.5
             },
             "pattern": {
              "fillmode": "overlay",
              "size": 10,
              "solidity": 0.2
             }
            },
            "type": "bar"
           }
          ],
          "barpolar": [
           {
            "marker": {
             "line": {
              "color": "#E5ECF6",
              "width": 0.5
             },
             "pattern": {
              "fillmode": "overlay",
              "size": 10,
              "solidity": 0.2
             }
            },
            "type": "barpolar"
           }
          ],
          "carpet": [
           {
            "aaxis": {
             "endlinecolor": "#2a3f5f",
             "gridcolor": "white",
             "linecolor": "white",
             "minorgridcolor": "white",
             "startlinecolor": "#2a3f5f"
            },
            "baxis": {
             "endlinecolor": "#2a3f5f",
             "gridcolor": "white",
             "linecolor": "white",
             "minorgridcolor": "white",
             "startlinecolor": "#2a3f5f"
            },
            "type": "carpet"
           }
          ],
          "choropleth": [
           {
            "colorbar": {
             "outlinewidth": 0,
             "ticks": ""
            },
            "type": "choropleth"
           }
          ],
          "contour": [
           {
            "colorbar": {
             "outlinewidth": 0,
             "ticks": ""
            },
            "colorscale": [
             [
              0,
              "#0d0887"
             ],
             [
              0.1111111111111111,
              "#46039f"
             ],
             [
              0.2222222222222222,
              "#7201a8"
             ],
             [
              0.3333333333333333,
              "#9c179e"
             ],
             [
              0.4444444444444444,
              "#bd3786"
             ],
             [
              0.5555555555555556,
              "#d8576b"
             ],
             [
              0.6666666666666666,
              "#ed7953"
             ],
             [
              0.7777777777777778,
              "#fb9f3a"
             ],
             [
              0.8888888888888888,
              "#fdca26"
             ],
             [
              1,
              "#f0f921"
             ]
            ],
            "type": "contour"
           }
          ],
          "contourcarpet": [
           {
            "colorbar": {
             "outlinewidth": 0,
             "ticks": ""
            },
            "type": "contourcarpet"
           }
          ],
          "heatmap": [
           {
            "colorbar": {
             "outlinewidth": 0,
             "ticks": ""
            },
            "colorscale": [
             [
              0,
              "#0d0887"
             ],
             [
              0.1111111111111111,
              "#46039f"
             ],
             [
              0.2222222222222222,
              "#7201a8"
             ],
             [
              0.3333333333333333,
              "#9c179e"
             ],
             [
              0.4444444444444444,
              "#bd3786"
             ],
             [
              0.5555555555555556,
              "#d8576b"
             ],
             [
              0.6666666666666666,
              "#ed7953"
             ],
             [
              0.7777777777777778,
              "#fb9f3a"
             ],
             [
              0.8888888888888888,
              "#fdca26"
             ],
             [
              1,
              "#f0f921"
             ]
            ],
            "type": "heatmap"
           }
          ],
          "heatmapgl": [
           {
            "colorbar": {
             "outlinewidth": 0,
             "ticks": ""
            },
            "colorscale": [
             [
              0,
              "#0d0887"
             ],
             [
              0.1111111111111111,
              "#46039f"
             ],
             [
              0.2222222222222222,
              "#7201a8"
             ],
             [
              0.3333333333333333,
              "#9c179e"
             ],
             [
              0.4444444444444444,
              "#bd3786"
             ],
             [
              0.5555555555555556,
              "#d8576b"
             ],
             [
              0.6666666666666666,
              "#ed7953"
             ],
             [
              0.7777777777777778,
              "#fb9f3a"
             ],
             [
              0.8888888888888888,
              "#fdca26"
             ],
             [
              1,
              "#f0f921"
             ]
            ],
            "type": "heatmapgl"
           }
          ],
          "histogram": [
           {
            "marker": {
             "pattern": {
              "fillmode": "overlay",
              "size": 10,
              "solidity": 0.2
             }
            },
            "type": "histogram"
           }
          ],
          "histogram2d": [
           {
            "colorbar": {
             "outlinewidth": 0,
             "ticks": ""
            },
            "colorscale": [
             [
              0,
              "#0d0887"
             ],
             [
              0.1111111111111111,
              "#46039f"
             ],
             [
              0.2222222222222222,
              "#7201a8"
             ],
             [
              0.3333333333333333,
              "#9c179e"
             ],
             [
              0.4444444444444444,
              "#bd3786"
             ],
             [
              0.5555555555555556,
              "#d8576b"
             ],
             [
              0.6666666666666666,
              "#ed7953"
             ],
             [
              0.7777777777777778,
              "#fb9f3a"
             ],
             [
              0.8888888888888888,
              "#fdca26"
             ],
             [
              1,
              "#f0f921"
             ]
            ],
            "type": "histogram2d"
           }
          ],
          "histogram2dcontour": [
           {
            "colorbar": {
             "outlinewidth": 0,
             "ticks": ""
            },
            "colorscale": [
             [
              0,
              "#0d0887"
             ],
             [
              0.1111111111111111,
              "#46039f"
             ],
             [
              0.2222222222222222,
              "#7201a8"
             ],
             [
              0.3333333333333333,
              "#9c179e"
             ],
             [
              0.4444444444444444,
              "#bd3786"
             ],
             [
              0.5555555555555556,
              "#d8576b"
             ],
             [
              0.6666666666666666,
              "#ed7953"
             ],
             [
              0.7777777777777778,
              "#fb9f3a"
             ],
             [
              0.8888888888888888,
              "#fdca26"
             ],
             [
              1,
              "#f0f921"
             ]
            ],
            "type": "histogram2dcontour"
           }
          ],
          "mesh3d": [
           {
            "colorbar": {
             "outlinewidth": 0,
             "ticks": ""
            },
            "type": "mesh3d"
           }
          ],
          "parcoords": [
           {
            "line": {
             "colorbar": {
              "outlinewidth": 0,
              "ticks": ""
             }
            },
            "type": "parcoords"
           }
          ],
          "pie": [
           {
            "automargin": true,
            "type": "pie"
           }
          ],
          "scatter": [
           {
            "fillpattern": {
             "fillmode": "overlay",
             "size": 10,
             "solidity": 0.2
            },
            "type": "scatter"
           }
          ],
          "scatter3d": [
           {
            "line": {
             "colorbar": {
              "outlinewidth": 0,
              "ticks": ""
             }
            },
            "marker": {
             "colorbar": {
              "outlinewidth": 0,
              "ticks": ""
             }
            },
            "type": "scatter3d"
           }
          ],
          "scattercarpet": [
           {
            "marker": {
             "colorbar": {
              "outlinewidth": 0,
              "ticks": ""
             }
            },
            "type": "scattercarpet"
           }
          ],
          "scattergeo": [
           {
            "marker": {
             "colorbar": {
              "outlinewidth": 0,
              "ticks": ""
             }
            },
            "type": "scattergeo"
           }
          ],
          "scattergl": [
           {
            "marker": {
             "colorbar": {
              "outlinewidth": 0,
              "ticks": ""
             }
            },
            "type": "scattergl"
           }
          ],
          "scattermapbox": [
           {
            "marker": {
             "colorbar": {
              "outlinewidth": 0,
              "ticks": ""
             }
            },
            "type": "scattermapbox"
           }
          ],
          "scatterpolar": [
           {
            "marker": {
             "colorbar": {
              "outlinewidth": 0,
              "ticks": ""
             }
            },
            "type": "scatterpolar"
           }
          ],
          "scatterpolargl": [
           {
            "marker": {
             "colorbar": {
              "outlinewidth": 0,
              "ticks": ""
             }
            },
            "type": "scatterpolargl"
           }
          ],
          "scatterternary": [
           {
            "marker": {
             "colorbar": {
              "outlinewidth": 0,
              "ticks": ""
             }
            },
            "type": "scatterternary"
           }
          ],
          "surface": [
           {
            "colorbar": {
             "outlinewidth": 0,
             "ticks": ""
            },
            "colorscale": [
             [
              0,
              "#0d0887"
             ],
             [
              0.1111111111111111,
              "#46039f"
             ],
             [
              0.2222222222222222,
              "#7201a8"
             ],
             [
              0.3333333333333333,
              "#9c179e"
             ],
             [
              0.4444444444444444,
              "#bd3786"
             ],
             [
              0.5555555555555556,
              "#d8576b"
             ],
             [
              0.6666666666666666,
              "#ed7953"
             ],
             [
              0.7777777777777778,
              "#fb9f3a"
             ],
             [
              0.8888888888888888,
              "#fdca26"
             ],
             [
              1,
              "#f0f921"
             ]
            ],
            "type": "surface"
           }
          ],
          "table": [
           {
            "cells": {
             "fill": {
              "color": "#EBF0F8"
             },
             "line": {
              "color": "white"
             }
            },
            "header": {
             "fill": {
              "color": "#C8D4E3"
             },
             "line": {
              "color": "white"
             }
            },
            "type": "table"
           }
          ]
         },
         "layout": {
          "annotationdefaults": {
           "arrowcolor": "#2a3f5f",
           "arrowhead": 0,
           "arrowwidth": 1
          },
          "autotypenumbers": "strict",
          "coloraxis": {
           "colorbar": {
            "outlinewidth": 0,
            "ticks": ""
           }
          },
          "colorscale": {
           "diverging": [
            [
             0,
             "#8e0152"
            ],
            [
             0.1,
             "#c51b7d"
            ],
            [
             0.2,
             "#de77ae"
            ],
            [
             0.3,
             "#f1b6da"
            ],
            [
             0.4,
             "#fde0ef"
            ],
            [
             0.5,
             "#f7f7f7"
            ],
            [
             0.6,
             "#e6f5d0"
            ],
            [
             0.7,
             "#b8e186"
            ],
            [
             0.8,
             "#7fbc41"
            ],
            [
             0.9,
             "#4d9221"
            ],
            [
             1,
             "#276419"
            ]
           ],
           "sequential": [
            [
             0,
             "#0d0887"
            ],
            [
             0.1111111111111111,
             "#46039f"
            ],
            [
             0.2222222222222222,
             "#7201a8"
            ],
            [
             0.3333333333333333,
             "#9c179e"
            ],
            [
             0.4444444444444444,
             "#bd3786"
            ],
            [
             0.5555555555555556,
             "#d8576b"
            ],
            [
             0.6666666666666666,
             "#ed7953"
            ],
            [
             0.7777777777777778,
             "#fb9f3a"
            ],
            [
             0.8888888888888888,
             "#fdca26"
            ],
            [
             1,
             "#f0f921"
            ]
           ],
           "sequentialminus": [
            [
             0,
             "#0d0887"
            ],
            [
             0.1111111111111111,
             "#46039f"
            ],
            [
             0.2222222222222222,
             "#7201a8"
            ],
            [
             0.3333333333333333,
             "#9c179e"
            ],
            [
             0.4444444444444444,
             "#bd3786"
            ],
            [
             0.5555555555555556,
             "#d8576b"
            ],
            [
             0.6666666666666666,
             "#ed7953"
            ],
            [
             0.7777777777777778,
             "#fb9f3a"
            ],
            [
             0.8888888888888888,
             "#fdca26"
            ],
            [
             1,
             "#f0f921"
            ]
           ]
          },
          "colorway": [
           "#636efa",
           "#EF553B",
           "#00cc96",
           "#ab63fa",
           "#FFA15A",
           "#19d3f3",
           "#FF6692",
           "#B6E880",
           "#FF97FF",
           "#FECB52"
          ],
          "font": {
           "color": "#2a3f5f"
          },
          "geo": {
           "bgcolor": "white",
           "lakecolor": "white",
           "landcolor": "#E5ECF6",
           "showlakes": true,
           "showland": true,
           "subunitcolor": "white"
          },
          "hoverlabel": {
           "align": "left"
          },
          "hovermode": "closest",
          "mapbox": {
           "style": "light"
          },
          "paper_bgcolor": "white",
          "plot_bgcolor": "#E5ECF6",
          "polar": {
           "angularaxis": {
            "gridcolor": "white",
            "linecolor": "white",
            "ticks": ""
           },
           "bgcolor": "#E5ECF6",
           "radialaxis": {
            "gridcolor": "white",
            "linecolor": "white",
            "ticks": ""
           }
          },
          "scene": {
           "xaxis": {
            "backgroundcolor": "#E5ECF6",
            "gridcolor": "white",
            "gridwidth": 2,
            "linecolor": "white",
            "showbackground": true,
            "ticks": "",
            "zerolinecolor": "white"
           },
           "yaxis": {
            "backgroundcolor": "#E5ECF6",
            "gridcolor": "white",
            "gridwidth": 2,
            "linecolor": "white",
            "showbackground": true,
            "ticks": "",
            "zerolinecolor": "white"
           },
           "zaxis": {
            "backgroundcolor": "#E5ECF6",
            "gridcolor": "white",
            "gridwidth": 2,
            "linecolor": "white",
            "showbackground": true,
            "ticks": "",
            "zerolinecolor": "white"
           }
          },
          "shapedefaults": {
           "line": {
            "color": "#2a3f5f"
           }
          },
          "ternary": {
           "aaxis": {
            "gridcolor": "white",
            "linecolor": "white",
            "ticks": ""
           },
           "baxis": {
            "gridcolor": "white",
            "linecolor": "white",
            "ticks": ""
           },
           "bgcolor": "#E5ECF6",
           "caxis": {
            "gridcolor": "white",
            "linecolor": "white",
            "ticks": ""
           }
          },
          "title": {
           "x": 0.05
          },
          "xaxis": {
           "automargin": true,
           "gridcolor": "white",
           "linecolor": "white",
           "ticks": "",
           "title": {
            "standoff": 15
           },
           "zerolinecolor": "white",
           "zerolinewidth": 2
          },
          "yaxis": {
           "automargin": true,
           "gridcolor": "white",
           "linecolor": "white",
           "ticks": "",
           "title": {
            "standoff": 15
           },
           "zerolinecolor": "white",
           "zerolinewidth": 2
          }
         }
        },
        "title": {
         "text": "ROC Curve (AUC=0.9988)"
        },
        "xaxis": {
         "anchor": "y",
         "constrain": "domain",
         "domain": [
          0,
          1
         ],
         "title": {
          "text": "False Positive Rate"
         }
        },
        "yaxis": {
         "anchor": "x",
         "domain": [
          0,
          1
         ],
         "scaleanchor": "x",
         "scaleratio": 1,
         "title": {
          "text": "True Positive Rate"
         }
        }
       }
      }
     },
     "metadata": {},
     "output_type": "display_data"
    },
    {
     "data": {
      "application/vnd.plotly.v1+json": {
       "config": {
        "plotlyServerURL": "https://plot.ly"
       },
       "data": [
        {
         "colorscale": [
          [
           0,
           "#0d0887"
          ],
          [
           0.1111111111111111,
           "#46039f"
          ],
          [
           0.2222222222222222,
           "#7201a8"
          ],
          [
           0.3333333333333333,
           "#9c179e"
          ],
          [
           0.4444444444444444,
           "#bd3786"
          ],
          [
           0.5555555555555556,
           "#d8576b"
          ],
          [
           0.6666666666666666,
           "#ed7953"
          ],
          [
           0.7777777777777778,
           "#fb9f3a"
          ],
          [
           0.8888888888888888,
           "#fdca26"
          ],
          [
           1,
           "#f0f921"
          ]
         ],
         "reversescale": false,
         "showscale": false,
         "type": "heatmap",
         "x": [
          "Predicted YES",
          "Predicted NO"
         ],
         "y": [
          "Actual YES",
          "Actual NO"
         ],
         "z": [
          [
           763,
           2
          ],
          [
           6,
           669
          ]
         ]
        }
       ],
       "layout": {
        "annotations": [
         {
          "font": {
           "color": "#000000"
          },
          "showarrow": false,
          "text": "763",
          "x": "Predicted YES",
          "xref": "x",
          "y": "Actual YES",
          "yref": "y"
         },
         {
          "font": {
           "color": "#FFFFFF"
          },
          "showarrow": false,
          "text": "2",
          "x": "Predicted NO",
          "xref": "x",
          "y": "Actual YES",
          "yref": "y"
         },
         {
          "font": {
           "color": "#FFFFFF"
          },
          "showarrow": false,
          "text": "6",
          "x": "Predicted YES",
          "xref": "x",
          "y": "Actual NO",
          "yref": "y"
         },
         {
          "font": {
           "color": "#000000"
          },
          "showarrow": false,
          "text": "669",
          "x": "Predicted NO",
          "xref": "x",
          "y": "Actual NO",
          "yref": "y"
         }
        ],
        "template": {
         "data": {
          "bar": [
           {
            "error_x": {
             "color": "#2a3f5f"
            },
            "error_y": {
             "color": "#2a3f5f"
            },
            "marker": {
             "line": {
              "color": "#E5ECF6",
              "width": 0.5
             },
             "pattern": {
              "fillmode": "overlay",
              "size": 10,
              "solidity": 0.2
             }
            },
            "type": "bar"
           }
          ],
          "barpolar": [
           {
            "marker": {
             "line": {
              "color": "#E5ECF6",
              "width": 0.5
             },
             "pattern": {
              "fillmode": "overlay",
              "size": 10,
              "solidity": 0.2
             }
            },
            "type": "barpolar"
           }
          ],
          "carpet": [
           {
            "aaxis": {
             "endlinecolor": "#2a3f5f",
             "gridcolor": "white",
             "linecolor": "white",
             "minorgridcolor": "white",
             "startlinecolor": "#2a3f5f"
            },
            "baxis": {
             "endlinecolor": "#2a3f5f",
             "gridcolor": "white",
             "linecolor": "white",
             "minorgridcolor": "white",
             "startlinecolor": "#2a3f5f"
            },
            "type": "carpet"
           }
          ],
          "choropleth": [
           {
            "colorbar": {
             "outlinewidth": 0,
             "ticks": ""
            },
            "type": "choropleth"
           }
          ],
          "contour": [
           {
            "colorbar": {
             "outlinewidth": 0,
             "ticks": ""
            },
            "colorscale": [
             [
              0,
              "#0d0887"
             ],
             [
              0.1111111111111111,
              "#46039f"
             ],
             [
              0.2222222222222222,
              "#7201a8"
             ],
             [
              0.3333333333333333,
              "#9c179e"
             ],
             [
              0.4444444444444444,
              "#bd3786"
             ],
             [
              0.5555555555555556,
              "#d8576b"
             ],
             [
              0.6666666666666666,
              "#ed7953"
             ],
             [
              0.7777777777777778,
              "#fb9f3a"
             ],
             [
              0.8888888888888888,
              "#fdca26"
             ],
             [
              1,
              "#f0f921"
             ]
            ],
            "type": "contour"
           }
          ],
          "contourcarpet": [
           {
            "colorbar": {
             "outlinewidth": 0,
             "ticks": ""
            },
            "type": "contourcarpet"
           }
          ],
          "heatmap": [
           {
            "colorbar": {
             "outlinewidth": 0,
             "ticks": ""
            },
            "colorscale": [
             [
              0,
              "#0d0887"
             ],
             [
              0.1111111111111111,
              "#46039f"
             ],
             [
              0.2222222222222222,
              "#7201a8"
             ],
             [
              0.3333333333333333,
              "#9c179e"
             ],
             [
              0.4444444444444444,
              "#bd3786"
             ],
             [
              0.5555555555555556,
              "#d8576b"
             ],
             [
              0.6666666666666666,
              "#ed7953"
             ],
             [
              0.7777777777777778,
              "#fb9f3a"
             ],
             [
              0.8888888888888888,
              "#fdca26"
             ],
             [
              1,
              "#f0f921"
             ]
            ],
            "type": "heatmap"
           }
          ],
          "heatmapgl": [
           {
            "colorbar": {
             "outlinewidth": 0,
             "ticks": ""
            },
            "colorscale": [
             [
              0,
              "#0d0887"
             ],
             [
              0.1111111111111111,
              "#46039f"
             ],
             [
              0.2222222222222222,
              "#7201a8"
             ],
             [
              0.3333333333333333,
              "#9c179e"
             ],
             [
              0.4444444444444444,
              "#bd3786"
             ],
             [
              0.5555555555555556,
              "#d8576b"
             ],
             [
              0.6666666666666666,
              "#ed7953"
             ],
             [
              0.7777777777777778,
              "#fb9f3a"
             ],
             [
              0.8888888888888888,
              "#fdca26"
             ],
             [
              1,
              "#f0f921"
             ]
            ],
            "type": "heatmapgl"
           }
          ],
          "histogram": [
           {
            "marker": {
             "pattern": {
              "fillmode": "overlay",
              "size": 10,
              "solidity": 0.2
             }
            },
            "type": "histogram"
           }
          ],
          "histogram2d": [
           {
            "colorbar": {
             "outlinewidth": 0,
             "ticks": ""
            },
            "colorscale": [
             [
              0,
              "#0d0887"
             ],
             [
              0.1111111111111111,
              "#46039f"
             ],
             [
              0.2222222222222222,
              "#7201a8"
             ],
             [
              0.3333333333333333,
              "#9c179e"
             ],
             [
              0.4444444444444444,
              "#bd3786"
             ],
             [
              0.5555555555555556,
              "#d8576b"
             ],
             [
              0.6666666666666666,
              "#ed7953"
             ],
             [
              0.7777777777777778,
              "#fb9f3a"
             ],
             [
              0.8888888888888888,
              "#fdca26"
             ],
             [
              1,
              "#f0f921"
             ]
            ],
            "type": "histogram2d"
           }
          ],
          "histogram2dcontour": [
           {
            "colorbar": {
             "outlinewidth": 0,
             "ticks": ""
            },
            "colorscale": [
             [
              0,
              "#0d0887"
             ],
             [
              0.1111111111111111,
              "#46039f"
             ],
             [
              0.2222222222222222,
              "#7201a8"
             ],
             [
              0.3333333333333333,
              "#9c179e"
             ],
             [
              0.4444444444444444,
              "#bd3786"
             ],
             [
              0.5555555555555556,
              "#d8576b"
             ],
             [
              0.6666666666666666,
              "#ed7953"
             ],
             [
              0.7777777777777778,
              "#fb9f3a"
             ],
             [
              0.8888888888888888,
              "#fdca26"
             ],
             [
              1,
              "#f0f921"
             ]
            ],
            "type": "histogram2dcontour"
           }
          ],
          "mesh3d": [
           {
            "colorbar": {
             "outlinewidth": 0,
             "ticks": ""
            },
            "type": "mesh3d"
           }
          ],
          "parcoords": [
           {
            "line": {
             "colorbar": {
              "outlinewidth": 0,
              "ticks": ""
             }
            },
            "type": "parcoords"
           }
          ],
          "pie": [
           {
            "automargin": true,
            "type": "pie"
           }
          ],
          "scatter": [
           {
            "fillpattern": {
             "fillmode": "overlay",
             "size": 10,
             "solidity": 0.2
            },
            "type": "scatter"
           }
          ],
          "scatter3d": [
           {
            "line": {
             "colorbar": {
              "outlinewidth": 0,
              "ticks": ""
             }
            },
            "marker": {
             "colorbar": {
              "outlinewidth": 0,
              "ticks": ""
             }
            },
            "type": "scatter3d"
           }
          ],
          "scattercarpet": [
           {
            "marker": {
             "colorbar": {
              "outlinewidth": 0,
              "ticks": ""
             }
            },
            "type": "scattercarpet"
           }
          ],
          "scattergeo": [
           {
            "marker": {
             "colorbar": {
              "outlinewidth": 0,
              "ticks": ""
             }
            },
            "type": "scattergeo"
           }
          ],
          "scattergl": [
           {
            "marker": {
             "colorbar": {
              "outlinewidth": 0,
              "ticks": ""
             }
            },
            "type": "scattergl"
           }
          ],
          "scattermapbox": [
           {
            "marker": {
             "colorbar": {
              "outlinewidth": 0,
              "ticks": ""
             }
            },
            "type": "scattermapbox"
           }
          ],
          "scatterpolar": [
           {
            "marker": {
             "colorbar": {
              "outlinewidth": 0,
              "ticks": ""
             }
            },
            "type": "scatterpolar"
           }
          ],
          "scatterpolargl": [
           {
            "marker": {
             "colorbar": {
              "outlinewidth": 0,
              "ticks": ""
             }
            },
            "type": "scatterpolargl"
           }
          ],
          "scatterternary": [
           {
            "marker": {
             "colorbar": {
              "outlinewidth": 0,
              "ticks": ""
             }
            },
            "type": "scatterternary"
           }
          ],
          "surface": [
           {
            "colorbar": {
             "outlinewidth": 0,
             "ticks": ""
            },
            "colorscale": [
             [
              0,
              "#0d0887"
             ],
             [
              0.1111111111111111,
              "#46039f"
             ],
             [
              0.2222222222222222,
              "#7201a8"
             ],
             [
              0.3333333333333333,
              "#9c179e"
             ],
             [
              0.4444444444444444,
              "#bd3786"
             ],
             [
              0.5555555555555556,
              "#d8576b"
             ],
             [
              0.6666666666666666,
              "#ed7953"
             ],
             [
              0.7777777777777778,
              "#fb9f3a"
             ],
             [
              0.8888888888888888,
              "#fdca26"
             ],
             [
              1,
              "#f0f921"
             ]
            ],
            "type": "surface"
           }
          ],
          "table": [
           {
            "cells": {
             "fill": {
              "color": "#EBF0F8"
             },
             "line": {
              "color": "white"
             }
            },
            "header": {
             "fill": {
              "color": "#C8D4E3"
             },
             "line": {
              "color": "white"
             }
            },
            "type": "table"
           }
          ]
         },
         "layout": {
          "annotationdefaults": {
           "arrowcolor": "#2a3f5f",
           "arrowhead": 0,
           "arrowwidth": 1
          },
          "autotypenumbers": "strict",
          "coloraxis": {
           "colorbar": {
            "outlinewidth": 0,
            "ticks": ""
           }
          },
          "colorscale": {
           "diverging": [
            [
             0,
             "#8e0152"
            ],
            [
             0.1,
             "#c51b7d"
            ],
            [
             0.2,
             "#de77ae"
            ],
            [
             0.3,
             "#f1b6da"
            ],
            [
             0.4,
             "#fde0ef"
            ],
            [
             0.5,
             "#f7f7f7"
            ],
            [
             0.6,
             "#e6f5d0"
            ],
            [
             0.7,
             "#b8e186"
            ],
            [
             0.8,
             "#7fbc41"
            ],
            [
             0.9,
             "#4d9221"
            ],
            [
             1,
             "#276419"
            ]
           ],
           "sequential": [
            [
             0,
             "#0d0887"
            ],
            [
             0.1111111111111111,
             "#46039f"
            ],
            [
             0.2222222222222222,
             "#7201a8"
            ],
            [
             0.3333333333333333,
             "#9c179e"
            ],
            [
             0.4444444444444444,
             "#bd3786"
            ],
            [
             0.5555555555555556,
             "#d8576b"
            ],
            [
             0.6666666666666666,
             "#ed7953"
            ],
            [
             0.7777777777777778,
             "#fb9f3a"
            ],
            [
             0.8888888888888888,
             "#fdca26"
            ],
            [
             1,
             "#f0f921"
            ]
           ],
           "sequentialminus": [
            [
             0,
             "#0d0887"
            ],
            [
             0.1111111111111111,
             "#46039f"
            ],
            [
             0.2222222222222222,
             "#7201a8"
            ],
            [
             0.3333333333333333,
             "#9c179e"
            ],
            [
             0.4444444444444444,
             "#bd3786"
            ],
            [
             0.5555555555555556,
             "#d8576b"
            ],
            [
             0.6666666666666666,
             "#ed7953"
            ],
            [
             0.7777777777777778,
             "#fb9f3a"
            ],
            [
             0.8888888888888888,
             "#fdca26"
            ],
            [
             1,
             "#f0f921"
            ]
           ]
          },
          "colorway": [
           "#636efa",
           "#EF553B",
           "#00cc96",
           "#ab63fa",
           "#FFA15A",
           "#19d3f3",
           "#FF6692",
           "#B6E880",
           "#FF97FF",
           "#FECB52"
          ],
          "font": {
           "color": "#2a3f5f"
          },
          "geo": {
           "bgcolor": "white",
           "lakecolor": "white",
           "landcolor": "#E5ECF6",
           "showlakes": true,
           "showland": true,
           "subunitcolor": "white"
          },
          "hoverlabel": {
           "align": "left"
          },
          "hovermode": "closest",
          "mapbox": {
           "style": "light"
          },
          "paper_bgcolor": "white",
          "plot_bgcolor": "#E5ECF6",
          "polar": {
           "angularaxis": {
            "gridcolor": "white",
            "linecolor": "white",
            "ticks": ""
           },
           "bgcolor": "#E5ECF6",
           "radialaxis": {
            "gridcolor": "white",
            "linecolor": "white",
            "ticks": ""
           }
          },
          "scene": {
           "xaxis": {
            "backgroundcolor": "#E5ECF6",
            "gridcolor": "white",
            "gridwidth": 2,
            "linecolor": "white",
            "showbackground": true,
            "ticks": "",
            "zerolinecolor": "white"
           },
           "yaxis": {
            "backgroundcolor": "#E5ECF6",
            "gridcolor": "white",
            "gridwidth": 2,
            "linecolor": "white",
            "showbackground": true,
            "ticks": "",
            "zerolinecolor": "white"
           },
           "zaxis": {
            "backgroundcolor": "#E5ECF6",
            "gridcolor": "white",
            "gridwidth": 2,
            "linecolor": "white",
            "showbackground": true,
            "ticks": "",
            "zerolinecolor": "white"
           }
          },
          "shapedefaults": {
           "line": {
            "color": "#2a3f5f"
           }
          },
          "ternary": {
           "aaxis": {
            "gridcolor": "white",
            "linecolor": "white",
            "ticks": ""
           },
           "baxis": {
            "gridcolor": "white",
            "linecolor": "white",
            "ticks": ""
           },
           "bgcolor": "#E5ECF6",
           "caxis": {
            "gridcolor": "white",
            "linecolor": "white",
            "ticks": ""
           }
          },
          "title": {
           "x": 0.05
          },
          "xaxis": {
           "automargin": true,
           "gridcolor": "white",
           "linecolor": "white",
           "ticks": "",
           "title": {
            "standoff": 15
           },
           "zerolinecolor": "white",
           "zerolinewidth": 2
          },
          "yaxis": {
           "automargin": true,
           "gridcolor": "white",
           "linecolor": "white",
           "ticks": "",
           "title": {
            "standoff": 15
           },
           "zerolinecolor": "white",
           "zerolinewidth": 2
          }
         }
        },
        "xaxis": {
         "dtick": 1,
         "gridcolor": "rgb(0, 0, 0)",
         "side": "top",
         "ticks": ""
        },
        "yaxis": {
         "dtick": 1,
         "ticks": "",
         "ticksuffix": "  "
        }
       }
      }
     },
     "metadata": {},
     "output_type": "display_data"
    },
    {
     "data": {
      "application/vnd.plotly.v1+json": {
       "config": {
        "plotlyServerURL": "https://plot.ly"
       },
       "data": [
        {
         "hovertemplate": "Rate=False Positive Rate<br>Thresholds=%{x}<br>value=%{y}<extra></extra>",
         "legendgroup": "False Positive Rate",
         "line": {
          "color": "#636efa",
          "dash": "solid"
         },
         "marker": {
          "symbol": "circle"
         },
         "mode": "lines",
         "name": "False Positive Rate",
         "orientation": "v",
         "showlegend": true,
         "type": "scatter",
         "x": [
          1.9999511241912842,
          0.9999511241912842,
          0.9999438524246216,
          0.9999425411224365,
          0.999942421913147,
          0.9999393224716187,
          0.9999346733093262,
          0.9999336004257202,
          0.9999281167984009,
          0.9999265670776367,
          0.9999229907989502,
          0.9999221563339233,
          0.9999167919158936,
          0.9999136924743652,
          0.999884843826294,
          0.9998816251754761,
          0.999881386756897,
          0.9998791217803955,
          0.999879002571106,
          0.9998787641525269,
          0.9998780488967896,
          0.9998778104782104,
          0.9998730421066284,
          0.9998675584793091,
          0.9998651742935181,
          0.9998650550842285,
          0.999855637550354,
          0.9998507499694824,
          0.9998165965080261,
          0.9998101592063904,
          0.9998072981834412,
          0.9998050332069397,
          0.9998021721839905,
          0.9998014569282532,
          0.9997979998588562,
          0.9997972846031189,
          0.9997866749763489,
          0.999782383441925,
          0.9997602105140686,
          0.9997581839561462,
          0.9997503161430359,
          0.9997450709342957,
          0.9997255206108093,
          0.9997238516807556,
          0.9997029900550842,
          0.9997022747993469,
          0.9996637105941772,
          0.9996603727340698,
          0.999645471572876,
          0.99964439868927,
          0.9996381998062134,
          0.9996349811553955,
          0.9996342658996582,
          0.99962317943573,
          0.999622106552124,
          0.9996194839477539,
          0.9996169805526733,
          0.9996058344841003,
          0.9996029734611511,
          0.9995853304862976,
          0.9995847344398499,
          0.9995712637901306,
          0.999567449092865,
          0.9995558857917786,
          0.9995542168617249,
          0.9995527863502502,
          0.9995330572128296,
          0.99953293800354,
          0.9995285272598267,
          0.9995279312133789,
          0.9995255470275879,
          0.999524712562561,
          0.9995203018188477,
          0.9995192289352417,
          0.9995107650756836,
          0.9994733929634094,
          0.999470055103302,
          0.999451220035553,
          0.9994503855705261,
          0.9994162321090698,
          0.9994137287139893,
          0.9993900060653687,
          0.999384880065918,
          0.9993823766708374,
          0.999372661113739,
          0.9993581175804138,
          0.9993475079536438,
          0.9992859959602356,
          0.9992806315422058,
          0.999234676361084,
          0.9992332458496094,
          0.9992245435714722,
          0.9991577863693237,
          0.9991438388824463,
          0.9991344809532166,
          0.9991171956062317,
          0.9991084933280945,
          0.9991058707237244,
          0.9990899562835693,
          0.9990617632865906,
          0.9990572333335876,
          0.9990407824516296,
          0.9990328550338745,
          0.9990288019180298,
          0.9990068078041077,
          0.9990018010139465,
          0.9989953637123108,
          0.9989148378372192,
          0.9989138841629028,
          0.998604953289032,
          0.99856036901474,
          0.998559296131134,
          0.9983905553817749,
          0.9983793497085571,
          0.9983376264572144,
          0.9983199238777161,
          0.9982994198799133,
          0.9982417821884155,
          0.9979825019836426,
          0.9979433417320251,
          0.9977558255195618,
          0.9976747632026672,
          0.9971495270729065,
          0.9970941543579102,
          0.9965284466743469,
          0.9965274930000305,
          0.9955001473426819,
          0.9953737854957581,
          0.9940521121025085,
          0.9940128922462463,
          0.9938147068023682,
          0.9938031435012817,
          0.9934576153755188,
          0.9934399724006653,
          0.9928017854690552,
          0.9925455451011658,
          0.99221271276474,
          0.9920720458030701,
          0.9894960522651672,
          0.9889506697654724,
          0.9790844917297363,
          0.9786630272865295,
          0.9738611578941345,
          0.9737547636032104,
          0.9628562927246094,
          0.9624536037445068,
          0.9561809301376343,
          0.9552816152572632,
          0.9061266779899597,
          0.897757351398468,
          0.6983463764190674,
          0.6864525675773621,
          0.6675987839698792,
          0.616873025894165,
          0.5422728657722473,
          0.5352990627288818,
          0.47071224451065063,
          0.4687701463699341,
          0.4229743182659149,
          0.4184914827346802,
          0.40440553426742554,
          0.35897278785705566,
          0.3582981824874878,
          0.31493130326271057,
          0.260422021150589,
          0.15861716866493225,
          0.12821297347545624,
          0.1118273138999939,
          0.10718386620283127,
          0.017931681126356125,
          0.0177917517721653,
          0.017107032239437103,
          0.01597234420478344,
          0.012013518251478672,
          0.011879085563123226,
          0.011072692461311817,
          0.010609534569084644,
          0.010297768749296665,
          0.01009156834334135,
          0.009671710431575775,
          0.00947218295186758,
          0.008626608178019524,
          0.008553371764719486,
          0.0045220754109323025,
          0.004336228594183922,
          0.00386453652754426,
          0.003860085504129529,
          0.0036046167369931936,
          0.003541569458320737,
          0.0033952887170016766,
          0.0033378887455910444,
          0.0032822152134031057,
          0.0032428810372948647,
          0.002050610724836588,
          0.0020222533494234085,
          0.001847967621870339,
          0.0018368118908256292,
          0.0016857031732797623,
          0.0016819782322272658,
          0.0016574037726968527,
          0.0016573999309912324,
          0.0015310475137084723,
          0.0015279840445145965,
          0.001325002871453762,
          0.0013230079784989357,
          0.0012637253385037184,
          0.0012322067050263286,
          0.0011945553123950958,
          0.0011833807220682502,
          0.001010179053992033,
          0.00100810918956995,
          0.0009122446645051241,
          0.0009088979568332434,
          0.0009018329437822104,
          0.0008994995732791722,
          0.0008369280840270221,
          0.0008353787707164884,
          0.0006195111782290041,
          0.0006185041274875402,
          0.0006053440156392753,
          0.0006039913860149682,
          0.0003942814073525369,
          0.0003867696214001626,
          0.00035109734744764864,
          0.0003497255383990705,
          0.00033868386526592076,
          0.0003375653177499771,
          0.00016906413657125086,
          0.00016861256153788418,
          0.00011508767784107476,
          0.00011491452460177243,
          0.000018470120267011225
         ],
         "xaxis": "x",
         "y": [
          0,
          0,
          0,
          0,
          0,
          0,
          0,
          0,
          0,
          0,
          0,
          0,
          0,
          0,
          0,
          0,
          0,
          0,
          0,
          0,
          0,
          0,
          0,
          0,
          0,
          0,
          0,
          0,
          0,
          0,
          0,
          0,
          0,
          0,
          0,
          0,
          0,
          0,
          0,
          0,
          0,
          0,
          0,
          0,
          0,
          0,
          0,
          0,
          0,
          0,
          0,
          0,
          0,
          0,
          0,
          0,
          0,
          0,
          0,
          0,
          0,
          0,
          0,
          0,
          0,
          0,
          0,
          0,
          0,
          0,
          0,
          0,
          0,
          0,
          0,
          0,
          0,
          0,
          0,
          0,
          0,
          0,
          0,
          0,
          0,
          0,
          0,
          0,
          0,
          0,
          0,
          0,
          0,
          0,
          0,
          0,
          0,
          0,
          0,
          0,
          0,
          0,
          0,
          0,
          0,
          0,
          0,
          0,
          0,
          0,
          0,
          0,
          0,
          0,
          0,
          0,
          0,
          0,
          0,
          0,
          0,
          0,
          0,
          0,
          0,
          0,
          0,
          0,
          0,
          0,
          0,
          0,
          0,
          0,
          0,
          0,
          0,
          0,
          0,
          0,
          0,
          0,
          0,
          0,
          0,
          0,
          0,
          0,
          0,
          0,
          0,
          0,
          0,
          0.00130718954248366,
          0.00261437908496732,
          0.00261437908496732,
          0.00392156862745098,
          0.00392156862745098,
          0.00522875816993464,
          0.00522875816993464,
          0.00784313725490196,
          0.00784313725490196,
          0.01045751633986928,
          0.011764705882352941,
          0.011764705882352941,
          0.02091503267973856,
          0.02483660130718954,
          0.027450980392156862,
          0.030065359477124184,
          0.09281045751633987,
          0.10980392156862745,
          0.11764705882352941,
          0.12287581699346405,
          0.14248366013071895,
          0.1450980392156863,
          0.1477124183006536,
          0.15294117647058825,
          0.15555555555555556,
          0.16339869281045752,
          0.16862745098039217,
          0.17777777777777778,
          0.1843137254901961,
          0.1869281045751634,
          0.23921568627450981,
          0.24183006535947713,
          0.24836601307189543,
          0.25098039215686274,
          0.26405228758169935,
          0.27058823529411763,
          0.2758169934640523,
          0.2797385620915033,
          0.28104575163398693,
          0.28366013071895424,
          0.3437908496732026,
          0.3464052287581699,
          0.35947712418300654,
          0.36470588235294116,
          0.3790849673202614,
          0.38169934640522873,
          0.3843137254901961,
          0.45098039215686275,
          0.46143790849673205,
          0.465359477124183,
          0.4875816993464052,
          0.49019607843137253,
          0.4980392156862745,
          0.5045751633986928,
          0.5084967320261438,
          0.5176470588235295,
          0.5568627450980392,
          0.5594771241830065,
          0.5790849673202615,
          0.5843137254901961,
          0.5856209150326798,
          0.5882352941176471,
          0.6,
          0.6026143790849673,
          0.6588235294117647,
          0.661437908496732,
          0.6692810457516339,
          0.6718954248366014,
          0.738562091503268,
          0.7411764705882353,
          0.7607843137254902,
          0.7607843137254902,
          0.7620915032679738,
          0.7647058823529411,
          0.8836601307189542,
          0.8862745098039215,
          0.9359477124183007,
          0.938562091503268,
          1
         ],
         "yaxis": "y"
        },
        {
         "hovertemplate": "Rate=True Positive Rate<br>Thresholds=%{x}<br>value=%{y}<extra></extra>",
         "legendgroup": "True Positive Rate",
         "line": {
          "color": "#EF553B",
          "dash": "solid"
         },
         "marker": {
          "symbol": "circle"
         },
         "mode": "lines",
         "name": "True Positive Rate",
         "orientation": "v",
         "showlegend": true,
         "type": "scatter",
         "x": [
          1.9999511241912842,
          0.9999511241912842,
          0.9999438524246216,
          0.9999425411224365,
          0.999942421913147,
          0.9999393224716187,
          0.9999346733093262,
          0.9999336004257202,
          0.9999281167984009,
          0.9999265670776367,
          0.9999229907989502,
          0.9999221563339233,
          0.9999167919158936,
          0.9999136924743652,
          0.999884843826294,
          0.9998816251754761,
          0.999881386756897,
          0.9998791217803955,
          0.999879002571106,
          0.9998787641525269,
          0.9998780488967896,
          0.9998778104782104,
          0.9998730421066284,
          0.9998675584793091,
          0.9998651742935181,
          0.9998650550842285,
          0.999855637550354,
          0.9998507499694824,
          0.9998165965080261,
          0.9998101592063904,
          0.9998072981834412,
          0.9998050332069397,
          0.9998021721839905,
          0.9998014569282532,
          0.9997979998588562,
          0.9997972846031189,
          0.9997866749763489,
          0.999782383441925,
          0.9997602105140686,
          0.9997581839561462,
          0.9997503161430359,
          0.9997450709342957,
          0.9997255206108093,
          0.9997238516807556,
          0.9997029900550842,
          0.9997022747993469,
          0.9996637105941772,
          0.9996603727340698,
          0.999645471572876,
          0.99964439868927,
          0.9996381998062134,
          0.9996349811553955,
          0.9996342658996582,
          0.99962317943573,
          0.999622106552124,
          0.9996194839477539,
          0.9996169805526733,
          0.9996058344841003,
          0.9996029734611511,
          0.9995853304862976,
          0.9995847344398499,
          0.9995712637901306,
          0.999567449092865,
          0.9995558857917786,
          0.9995542168617249,
          0.9995527863502502,
          0.9995330572128296,
          0.99953293800354,
          0.9995285272598267,
          0.9995279312133789,
          0.9995255470275879,
          0.999524712562561,
          0.9995203018188477,
          0.9995192289352417,
          0.9995107650756836,
          0.9994733929634094,
          0.999470055103302,
          0.999451220035553,
          0.9994503855705261,
          0.9994162321090698,
          0.9994137287139893,
          0.9993900060653687,
          0.999384880065918,
          0.9993823766708374,
          0.999372661113739,
          0.9993581175804138,
          0.9993475079536438,
          0.9992859959602356,
          0.9992806315422058,
          0.999234676361084,
          0.9992332458496094,
          0.9992245435714722,
          0.9991577863693237,
          0.9991438388824463,
          0.9991344809532166,
          0.9991171956062317,
          0.9991084933280945,
          0.9991058707237244,
          0.9990899562835693,
          0.9990617632865906,
          0.9990572333335876,
          0.9990407824516296,
          0.9990328550338745,
          0.9990288019180298,
          0.9990068078041077,
          0.9990018010139465,
          0.9989953637123108,
          0.9989148378372192,
          0.9989138841629028,
          0.998604953289032,
          0.99856036901474,
          0.998559296131134,
          0.9983905553817749,
          0.9983793497085571,
          0.9983376264572144,
          0.9983199238777161,
          0.9982994198799133,
          0.9982417821884155,
          0.9979825019836426,
          0.9979433417320251,
          0.9977558255195618,
          0.9976747632026672,
          0.9971495270729065,
          0.9970941543579102,
          0.9965284466743469,
          0.9965274930000305,
          0.9955001473426819,
          0.9953737854957581,
          0.9940521121025085,
          0.9940128922462463,
          0.9938147068023682,
          0.9938031435012817,
          0.9934576153755188,
          0.9934399724006653,
          0.9928017854690552,
          0.9925455451011658,
          0.99221271276474,
          0.9920720458030701,
          0.9894960522651672,
          0.9889506697654724,
          0.9790844917297363,
          0.9786630272865295,
          0.9738611578941345,
          0.9737547636032104,
          0.9628562927246094,
          0.9624536037445068,
          0.9561809301376343,
          0.9552816152572632,
          0.9061266779899597,
          0.897757351398468,
          0.6983463764190674,
          0.6864525675773621,
          0.6675987839698792,
          0.616873025894165,
          0.5422728657722473,
          0.5352990627288818,
          0.47071224451065063,
          0.4687701463699341,
          0.4229743182659149,
          0.4184914827346802,
          0.40440553426742554,
          0.35897278785705566,
          0.3582981824874878,
          0.31493130326271057,
          0.260422021150589,
          0.15861716866493225,
          0.12821297347545624,
          0.1118273138999939,
          0.10718386620283127,
          0.017931681126356125,
          0.0177917517721653,
          0.017107032239437103,
          0.01597234420478344,
          0.012013518251478672,
          0.011879085563123226,
          0.011072692461311817,
          0.010609534569084644,
          0.010297768749296665,
          0.01009156834334135,
          0.009671710431575775,
          0.00947218295186758,
          0.008626608178019524,
          0.008553371764719486,
          0.0045220754109323025,
          0.004336228594183922,
          0.00386453652754426,
          0.003860085504129529,
          0.0036046167369931936,
          0.003541569458320737,
          0.0033952887170016766,
          0.0033378887455910444,
          0.0032822152134031057,
          0.0032428810372948647,
          0.002050610724836588,
          0.0020222533494234085,
          0.001847967621870339,
          0.0018368118908256292,
          0.0016857031732797623,
          0.0016819782322272658,
          0.0016574037726968527,
          0.0016573999309912324,
          0.0015310475137084723,
          0.0015279840445145965,
          0.001325002871453762,
          0.0013230079784989357,
          0.0012637253385037184,
          0.0012322067050263286,
          0.0011945553123950958,
          0.0011833807220682502,
          0.001010179053992033,
          0.00100810918956995,
          0.0009122446645051241,
          0.0009088979568332434,
          0.0009018329437822104,
          0.0008994995732791722,
          0.0008369280840270221,
          0.0008353787707164884,
          0.0006195111782290041,
          0.0006185041274875402,
          0.0006053440156392753,
          0.0006039913860149682,
          0.0003942814073525369,
          0.0003867696214001626,
          0.00035109734744764864,
          0.0003497255383990705,
          0.00033868386526592076,
          0.0003375653177499771,
          0.00016906413657125086,
          0.00016861256153788418,
          0.00011508767784107476,
          0.00011491452460177243,
          0.000018470120267011225
         ],
         "xaxis": "x",
         "y": [
          0,
          0.0014814814814814814,
          0.002962962962962963,
          0.005925925925925926,
          0.007407407407407408,
          0.01037037037037037,
          0.014814814814814815,
          0.017777777777777778,
          0.023703703703703703,
          0.02962962962962963,
          0.037037037037037035,
          0.04,
          0.047407407407407405,
          0.05037037037037037,
          0.06518518518518518,
          0.07407407407407407,
          0.07703703703703704,
          0.08296296296296296,
          0.08444444444444445,
          0.09037037037037036,
          0.09333333333333334,
          0.09481481481481481,
          0.10222222222222223,
          0.10518518518518519,
          0.11259259259259259,
          0.11555555555555555,
          0.1288888888888889,
          0.13333333333333333,
          0.15851851851851853,
          0.16148148148148148,
          0.16592592592592592,
          0.17185185185185184,
          0.1748148148148148,
          0.17777777777777778,
          0.18222222222222223,
          0.18518518518518517,
          0.1985185185185185,
          0.20148148148148148,
          0.21777777777777776,
          0.22666666666666666,
          0.2311111111111111,
          0.23703703703703705,
          0.25037037037037035,
          0.25333333333333335,
          0.2637037037037037,
          0.26666666666666666,
          0.2903703703703704,
          0.2962962962962963,
          0.3022222222222222,
          0.30518518518518517,
          0.30962962962962964,
          0.3111111111111111,
          0.31407407407407406,
          0.3214814814814815,
          0.3244444444444444,
          0.3274074074074074,
          0.33037037037037037,
          0.34074074074074073,
          0.3437037037037037,
          0.3496296296296296,
          0.36148148148148146,
          0.362962962962963,
          0.36592592592592593,
          0.37037037037037035,
          0.3762962962962963,
          0.38074074074074077,
          0.38814814814814813,
          0.39111111111111113,
          0.3925925925925926,
          0.3985185185185185,
          0.4014814814814815,
          0.40296296296296297,
          0.4059259259259259,
          0.4074074074074074,
          0.4103703703703704,
          0.4266666666666667,
          0.42962962962962964,
          0.43407407407407406,
          0.43703703703703706,
          0.4488888888888889,
          0.45185185185185184,
          0.4562962962962963,
          0.46074074074074073,
          0.46370370370370373,
          0.46814814814814815,
          0.4696296296296296,
          0.47555555555555556,
          0.4918518518518519,
          0.4948148148148148,
          0.5022222222222222,
          0.5051851851851852,
          0.5096296296296297,
          0.5288888888888889,
          0.5318518518518518,
          0.5348148148148149,
          0.5407407407407407,
          0.5466666666666666,
          0.5481481481481482,
          0.5511111111111111,
          0.5585185185185185,
          0.5614814814814815,
          0.5659259259259259,
          0.5762962962962963,
          0.5792592592592593,
          0.5837037037037037,
          0.5881481481481482,
          0.5911111111111111,
          0.605925925925926,
          0.6088888888888889,
          0.6488888888888888,
          0.6592592592592592,
          0.6622222222222223,
          0.6725925925925926,
          0.682962962962963,
          0.6903703703703704,
          0.6962962962962963,
          0.6977777777777778,
          0.7022222222222222,
          0.7081481481481482,
          0.7125925925925926,
          0.7214814814814815,
          0.7274074074074074,
          0.7466666666666667,
          0.7496296296296296,
          0.7659259259259259,
          0.7688888888888888,
          0.7881481481481482,
          0.794074074074074,
          0.8088888888888889,
          0.8133333333333334,
          0.8177777777777778,
          0.8207407407407408,
          0.8237037037037037,
          0.8266666666666667,
          0.8340740740740741,
          0.84,
          0.8429629629629629,
          0.845925925925926,
          0.8637037037037038,
          0.8725925925925926,
          0.8903703703703704,
          0.8933333333333333,
          0.9051851851851852,
          0.9096296296296297,
          0.9185185185185185,
          0.9214814814814815,
          0.9274074074074075,
          0.9333333333333333,
          0.9496296296296296,
          0.9525925925925925,
          0.9792592592592593,
          0.9822222222222222,
          0.9851851851851852,
          0.9896296296296296,
          0.9896296296296296,
          0.9911111111111112,
          0.9911111111111112,
          0.9925925925925926,
          0.9925925925925926,
          0.9940740740740741,
          0.9940740740740741,
          0.9955555555555555,
          0.9955555555555555,
          0.9955555555555555,
          0.997037037037037,
          0.997037037037037,
          0.9985185185185185,
          0.9985185185185185,
          0.9985185185185185,
          0.9985185185185185,
          0.9985185185185185,
          0.9985185185185185,
          0.9985185185185185,
          0.9985185185185185,
          0.9985185185185185,
          0.9985185185185185,
          0.9985185185185185,
          0.9985185185185185,
          0.9985185185185185,
          0.9985185185185185,
          0.9985185185185185,
          0.9985185185185185,
          0.9985185185185185,
          0.9985185185185185,
          0.9985185185185185,
          0.9985185185185185,
          0.9985185185185185,
          0.9985185185185185,
          0.9985185185185185,
          0.9985185185185185,
          0.9985185185185185,
          0.9985185185185185,
          0.9985185185185185,
          0.9985185185185185,
          0.9985185185185185,
          0.9985185185185185,
          0.9985185185185185,
          0.9985185185185185,
          0.9985185185185185,
          0.9985185185185185,
          0.9985185185185185,
          0.9985185185185185,
          0.9985185185185185,
          0.9985185185185185,
          0.9985185185185185,
          0.9985185185185185,
          0.9985185185185185,
          0.9985185185185185,
          0.9985185185185185,
          0.9985185185185185,
          0.9985185185185185,
          0.9985185185185185,
          0.9985185185185185,
          0.9985185185185185,
          0.9985185185185185,
          0.9985185185185185,
          0.9985185185185185,
          0.9985185185185185,
          0.9985185185185185,
          0.9985185185185185,
          0.9985185185185185,
          0.9985185185185185,
          0.9985185185185185,
          0.9985185185185185,
          1,
          1,
          1,
          1,
          1,
          1,
          1,
          1
         ],
         "yaxis": "y"
        }
       ],
       "layout": {
        "legend": {
         "title": {
          "text": "Rate"
         },
         "tracegroupgap": 0
        },
        "template": {
         "data": {
          "bar": [
           {
            "error_x": {
             "color": "#2a3f5f"
            },
            "error_y": {
             "color": "#2a3f5f"
            },
            "marker": {
             "line": {
              "color": "#E5ECF6",
              "width": 0.5
             },
             "pattern": {
              "fillmode": "overlay",
              "size": 10,
              "solidity": 0.2
             }
            },
            "type": "bar"
           }
          ],
          "barpolar": [
           {
            "marker": {
             "line": {
              "color": "#E5ECF6",
              "width": 0.5
             },
             "pattern": {
              "fillmode": "overlay",
              "size": 10,
              "solidity": 0.2
             }
            },
            "type": "barpolar"
           }
          ],
          "carpet": [
           {
            "aaxis": {
             "endlinecolor": "#2a3f5f",
             "gridcolor": "white",
             "linecolor": "white",
             "minorgridcolor": "white",
             "startlinecolor": "#2a3f5f"
            },
            "baxis": {
             "endlinecolor": "#2a3f5f",
             "gridcolor": "white",
             "linecolor": "white",
             "minorgridcolor": "white",
             "startlinecolor": "#2a3f5f"
            },
            "type": "carpet"
           }
          ],
          "choropleth": [
           {
            "colorbar": {
             "outlinewidth": 0,
             "ticks": ""
            },
            "type": "choropleth"
           }
          ],
          "contour": [
           {
            "colorbar": {
             "outlinewidth": 0,
             "ticks": ""
            },
            "colorscale": [
             [
              0,
              "#0d0887"
             ],
             [
              0.1111111111111111,
              "#46039f"
             ],
             [
              0.2222222222222222,
              "#7201a8"
             ],
             [
              0.3333333333333333,
              "#9c179e"
             ],
             [
              0.4444444444444444,
              "#bd3786"
             ],
             [
              0.5555555555555556,
              "#d8576b"
             ],
             [
              0.6666666666666666,
              "#ed7953"
             ],
             [
              0.7777777777777778,
              "#fb9f3a"
             ],
             [
              0.8888888888888888,
              "#fdca26"
             ],
             [
              1,
              "#f0f921"
             ]
            ],
            "type": "contour"
           }
          ],
          "contourcarpet": [
           {
            "colorbar": {
             "outlinewidth": 0,
             "ticks": ""
            },
            "type": "contourcarpet"
           }
          ],
          "heatmap": [
           {
            "colorbar": {
             "outlinewidth": 0,
             "ticks": ""
            },
            "colorscale": [
             [
              0,
              "#0d0887"
             ],
             [
              0.1111111111111111,
              "#46039f"
             ],
             [
              0.2222222222222222,
              "#7201a8"
             ],
             [
              0.3333333333333333,
              "#9c179e"
             ],
             [
              0.4444444444444444,
              "#bd3786"
             ],
             [
              0.5555555555555556,
              "#d8576b"
             ],
             [
              0.6666666666666666,
              "#ed7953"
             ],
             [
              0.7777777777777778,
              "#fb9f3a"
             ],
             [
              0.8888888888888888,
              "#fdca26"
             ],
             [
              1,
              "#f0f921"
             ]
            ],
            "type": "heatmap"
           }
          ],
          "heatmapgl": [
           {
            "colorbar": {
             "outlinewidth": 0,
             "ticks": ""
            },
            "colorscale": [
             [
              0,
              "#0d0887"
             ],
             [
              0.1111111111111111,
              "#46039f"
             ],
             [
              0.2222222222222222,
              "#7201a8"
             ],
             [
              0.3333333333333333,
              "#9c179e"
             ],
             [
              0.4444444444444444,
              "#bd3786"
             ],
             [
              0.5555555555555556,
              "#d8576b"
             ],
             [
              0.6666666666666666,
              "#ed7953"
             ],
             [
              0.7777777777777778,
              "#fb9f3a"
             ],
             [
              0.8888888888888888,
              "#fdca26"
             ],
             [
              1,
              "#f0f921"
             ]
            ],
            "type": "heatmapgl"
           }
          ],
          "histogram": [
           {
            "marker": {
             "pattern": {
              "fillmode": "overlay",
              "size": 10,
              "solidity": 0.2
             }
            },
            "type": "histogram"
           }
          ],
          "histogram2d": [
           {
            "colorbar": {
             "outlinewidth": 0,
             "ticks": ""
            },
            "colorscale": [
             [
              0,
              "#0d0887"
             ],
             [
              0.1111111111111111,
              "#46039f"
             ],
             [
              0.2222222222222222,
              "#7201a8"
             ],
             [
              0.3333333333333333,
              "#9c179e"
             ],
             [
              0.4444444444444444,
              "#bd3786"
             ],
             [
              0.5555555555555556,
              "#d8576b"
             ],
             [
              0.6666666666666666,
              "#ed7953"
             ],
             [
              0.7777777777777778,
              "#fb9f3a"
             ],
             [
              0.8888888888888888,
              "#fdca26"
             ],
             [
              1,
              "#f0f921"
             ]
            ],
            "type": "histogram2d"
           }
          ],
          "histogram2dcontour": [
           {
            "colorbar": {
             "outlinewidth": 0,
             "ticks": ""
            },
            "colorscale": [
             [
              0,
              "#0d0887"
             ],
             [
              0.1111111111111111,
              "#46039f"
             ],
             [
              0.2222222222222222,
              "#7201a8"
             ],
             [
              0.3333333333333333,
              "#9c179e"
             ],
             [
              0.4444444444444444,
              "#bd3786"
             ],
             [
              0.5555555555555556,
              "#d8576b"
             ],
             [
              0.6666666666666666,
              "#ed7953"
             ],
             [
              0.7777777777777778,
              "#fb9f3a"
             ],
             [
              0.8888888888888888,
              "#fdca26"
             ],
             [
              1,
              "#f0f921"
             ]
            ],
            "type": "histogram2dcontour"
           }
          ],
          "mesh3d": [
           {
            "colorbar": {
             "outlinewidth": 0,
             "ticks": ""
            },
            "type": "mesh3d"
           }
          ],
          "parcoords": [
           {
            "line": {
             "colorbar": {
              "outlinewidth": 0,
              "ticks": ""
             }
            },
            "type": "parcoords"
           }
          ],
          "pie": [
           {
            "automargin": true,
            "type": "pie"
           }
          ],
          "scatter": [
           {
            "fillpattern": {
             "fillmode": "overlay",
             "size": 10,
             "solidity": 0.2
            },
            "type": "scatter"
           }
          ],
          "scatter3d": [
           {
            "line": {
             "colorbar": {
              "outlinewidth": 0,
              "ticks": ""
             }
            },
            "marker": {
             "colorbar": {
              "outlinewidth": 0,
              "ticks": ""
             }
            },
            "type": "scatter3d"
           }
          ],
          "scattercarpet": [
           {
            "marker": {
             "colorbar": {
              "outlinewidth": 0,
              "ticks": ""
             }
            },
            "type": "scattercarpet"
           }
          ],
          "scattergeo": [
           {
            "marker": {
             "colorbar": {
              "outlinewidth": 0,
              "ticks": ""
             }
            },
            "type": "scattergeo"
           }
          ],
          "scattergl": [
           {
            "marker": {
             "colorbar": {
              "outlinewidth": 0,
              "ticks": ""
             }
            },
            "type": "scattergl"
           }
          ],
          "scattermapbox": [
           {
            "marker": {
             "colorbar": {
              "outlinewidth": 0,
              "ticks": ""
             }
            },
            "type": "scattermapbox"
           }
          ],
          "scatterpolar": [
           {
            "marker": {
             "colorbar": {
              "outlinewidth": 0,
              "ticks": ""
             }
            },
            "type": "scatterpolar"
           }
          ],
          "scatterpolargl": [
           {
            "marker": {
             "colorbar": {
              "outlinewidth": 0,
              "ticks": ""
             }
            },
            "type": "scatterpolargl"
           }
          ],
          "scatterternary": [
           {
            "marker": {
             "colorbar": {
              "outlinewidth": 0,
              "ticks": ""
             }
            },
            "type": "scatterternary"
           }
          ],
          "surface": [
           {
            "colorbar": {
             "outlinewidth": 0,
             "ticks": ""
            },
            "colorscale": [
             [
              0,
              "#0d0887"
             ],
             [
              0.1111111111111111,
              "#46039f"
             ],
             [
              0.2222222222222222,
              "#7201a8"
             ],
             [
              0.3333333333333333,
              "#9c179e"
             ],
             [
              0.4444444444444444,
              "#bd3786"
             ],
             [
              0.5555555555555556,
              "#d8576b"
             ],
             [
              0.6666666666666666,
              "#ed7953"
             ],
             [
              0.7777777777777778,
              "#fb9f3a"
             ],
             [
              0.8888888888888888,
              "#fdca26"
             ],
             [
              1,
              "#f0f921"
             ]
            ],
            "type": "surface"
           }
          ],
          "table": [
           {
            "cells": {
             "fill": {
              "color": "#EBF0F8"
             },
             "line": {
              "color": "white"
             }
            },
            "header": {
             "fill": {
              "color": "#C8D4E3"
             },
             "line": {
              "color": "white"
             }
            },
            "type": "table"
           }
          ]
         },
         "layout": {
          "annotationdefaults": {
           "arrowcolor": "#2a3f5f",
           "arrowhead": 0,
           "arrowwidth": 1
          },
          "autotypenumbers": "strict",
          "coloraxis": {
           "colorbar": {
            "outlinewidth": 0,
            "ticks": ""
           }
          },
          "colorscale": {
           "diverging": [
            [
             0,
             "#8e0152"
            ],
            [
             0.1,
             "#c51b7d"
            ],
            [
             0.2,
             "#de77ae"
            ],
            [
             0.3,
             "#f1b6da"
            ],
            [
             0.4,
             "#fde0ef"
            ],
            [
             0.5,
             "#f7f7f7"
            ],
            [
             0.6,
             "#e6f5d0"
            ],
            [
             0.7,
             "#b8e186"
            ],
            [
             0.8,
             "#7fbc41"
            ],
            [
             0.9,
             "#4d9221"
            ],
            [
             1,
             "#276419"
            ]
           ],
           "sequential": [
            [
             0,
             "#0d0887"
            ],
            [
             0.1111111111111111,
             "#46039f"
            ],
            [
             0.2222222222222222,
             "#7201a8"
            ],
            [
             0.3333333333333333,
             "#9c179e"
            ],
            [
             0.4444444444444444,
             "#bd3786"
            ],
            [
             0.5555555555555556,
             "#d8576b"
            ],
            [
             0.6666666666666666,
             "#ed7953"
            ],
            [
             0.7777777777777778,
             "#fb9f3a"
            ],
            [
             0.8888888888888888,
             "#fdca26"
            ],
            [
             1,
             "#f0f921"
            ]
           ],
           "sequentialminus": [
            [
             0,
             "#0d0887"
            ],
            [
             0.1111111111111111,
             "#46039f"
            ],
            [
             0.2222222222222222,
             "#7201a8"
            ],
            [
             0.3333333333333333,
             "#9c179e"
            ],
            [
             0.4444444444444444,
             "#bd3786"
            ],
            [
             0.5555555555555556,
             "#d8576b"
            ],
            [
             0.6666666666666666,
             "#ed7953"
            ],
            [
             0.7777777777777778,
             "#fb9f3a"
            ],
            [
             0.8888888888888888,
             "#fdca26"
            ],
            [
             1,
             "#f0f921"
            ]
           ]
          },
          "colorway": [
           "#636efa",
           "#EF553B",
           "#00cc96",
           "#ab63fa",
           "#FFA15A",
           "#19d3f3",
           "#FF6692",
           "#B6E880",
           "#FF97FF",
           "#FECB52"
          ],
          "font": {
           "color": "#2a3f5f"
          },
          "geo": {
           "bgcolor": "white",
           "lakecolor": "white",
           "landcolor": "#E5ECF6",
           "showlakes": true,
           "showland": true,
           "subunitcolor": "white"
          },
          "hoverlabel": {
           "align": "left"
          },
          "hovermode": "closest",
          "mapbox": {
           "style": "light"
          },
          "paper_bgcolor": "white",
          "plot_bgcolor": "#E5ECF6",
          "polar": {
           "angularaxis": {
            "gridcolor": "white",
            "linecolor": "white",
            "ticks": ""
           },
           "bgcolor": "#E5ECF6",
           "radialaxis": {
            "gridcolor": "white",
            "linecolor": "white",
            "ticks": ""
           }
          },
          "scene": {
           "xaxis": {
            "backgroundcolor": "#E5ECF6",
            "gridcolor": "white",
            "gridwidth": 2,
            "linecolor": "white",
            "showbackground": true,
            "ticks": "",
            "zerolinecolor": "white"
           },
           "yaxis": {
            "backgroundcolor": "#E5ECF6",
            "gridcolor": "white",
            "gridwidth": 2,
            "linecolor": "white",
            "showbackground": true,
            "ticks": "",
            "zerolinecolor": "white"
           },
           "zaxis": {
            "backgroundcolor": "#E5ECF6",
            "gridcolor": "white",
            "gridwidth": 2,
            "linecolor": "white",
            "showbackground": true,
            "ticks": "",
            "zerolinecolor": "white"
           }
          },
          "shapedefaults": {
           "line": {
            "color": "#2a3f5f"
           }
          },
          "ternary": {
           "aaxis": {
            "gridcolor": "white",
            "linecolor": "white",
            "ticks": ""
           },
           "baxis": {
            "gridcolor": "white",
            "linecolor": "white",
            "ticks": ""
           },
           "bgcolor": "#E5ECF6",
           "caxis": {
            "gridcolor": "white",
            "linecolor": "white",
            "ticks": ""
           }
          },
          "title": {
           "x": 0.05
          },
          "xaxis": {
           "automargin": true,
           "gridcolor": "white",
           "linecolor": "white",
           "ticks": "",
           "title": {
            "standoff": 15
           },
           "zerolinecolor": "white",
           "zerolinewidth": 2
          },
          "yaxis": {
           "automargin": true,
           "gridcolor": "white",
           "linecolor": "white",
           "ticks": "",
           "title": {
            "standoff": 15
           },
           "zerolinecolor": "white",
           "zerolinewidth": 2
          }
         }
        },
        "title": {
         "text": "TPR & FPR at every threshold"
        },
        "xaxis": {
         "anchor": "y",
         "constrain": "domain",
         "domain": [
          0,
          1
         ],
         "range": [
          0,
          1
         ],
         "title": {
          "text": "Thresholds"
         }
        },
        "yaxis": {
         "anchor": "x",
         "domain": [
          0,
          1
         ],
         "scaleanchor": "x",
         "scaleratio": 1,
         "title": {
          "text": "value"
         }
        }
       }
      }
     },
     "metadata": {},
     "output_type": "display_data"
    },
    {
     "data": {
      "application/vnd.plotly.v1+json": {
       "config": {
        "plotlyServerURL": "https://plot.ly"
       },
       "data": [
        {
         "fillpattern": {
          "shape": ""
         },
         "hovertemplate": "Recall=%{x}<br>Precision=%{y}<extra></extra>",
         "legendgroup": "",
         "line": {
          "color": "#636efa"
         },
         "marker": {
          "symbol": "circle"
         },
         "mode": "lines",
         "name": "",
         "orientation": "v",
         "showlegend": false,
         "stackgroup": "1",
         "type": "scatter",
         "x": [
          1,
          0.9985185185185185,
          0.9985185185185185,
          0.9985185185185185,
          0.9985185185185185,
          0.9985185185185185,
          0.9985185185185185,
          0.9985185185185185,
          0.9985185185185185,
          0.9985185185185185,
          0.9985185185185185,
          0.9985185185185185,
          0.9985185185185185,
          0.9985185185185185,
          0.9985185185185185,
          0.9985185185185185,
          0.9985185185185185,
          0.9985185185185185,
          0.9985185185185185,
          0.9985185185185185,
          0.9985185185185185,
          0.9985185185185185,
          0.9985185185185185,
          0.9985185185185185,
          0.9985185185185185,
          0.9985185185185185,
          0.9985185185185185,
          0.9985185185185185,
          0.9985185185185185,
          0.9985185185185185,
          0.9985185185185185,
          0.9985185185185185,
          0.9985185185185185,
          0.9985185185185185,
          0.9985185185185185,
          0.9985185185185185,
          0.9985185185185185,
          0.9985185185185185,
          0.9985185185185185,
          0.9985185185185185,
          0.9985185185185185,
          0.9985185185185185,
          0.9985185185185185,
          0.9985185185185185,
          0.9985185185185185,
          0.9985185185185185,
          0.9985185185185185,
          0.9985185185185185,
          0.9985185185185185,
          0.9985185185185185,
          0.9985185185185185,
          0.9985185185185185,
          0.9985185185185185,
          0.9985185185185185,
          0.9985185185185185,
          0.9985185185185185,
          0.9985185185185185,
          0.9985185185185185,
          0.9985185185185185,
          0.9985185185185185,
          0.9985185185185185,
          0.9985185185185185,
          0.9985185185185185,
          0.9985185185185185,
          0.9985185185185185,
          0.9985185185185185,
          0.9985185185185185,
          0.9985185185185185,
          0.9985185185185185,
          0.9985185185185185,
          0.9985185185185185,
          0.9985185185185185,
          0.9985185185185185,
          0.9985185185185185,
          0.9985185185185185,
          0.9985185185185185,
          0.9985185185185185,
          0.9985185185185185,
          0.9985185185185185,
          0.9985185185185185,
          0.9985185185185185,
          0.9985185185185185,
          0.9985185185185185,
          0.9985185185185185,
          0.9985185185185185,
          0.9985185185185185,
          0.9985185185185185,
          0.9985185185185185,
          0.9985185185185185,
          0.9985185185185185,
          0.9985185185185185,
          0.9985185185185185,
          0.9985185185185185,
          0.9985185185185185,
          0.9985185185185185,
          0.9985185185185185,
          0.9985185185185185,
          0.9985185185185185,
          0.9985185185185185,
          0.9985185185185185,
          0.9985185185185185,
          0.9985185185185185,
          0.9985185185185185,
          0.9985185185185185,
          0.9985185185185185,
          0.9985185185185185,
          0.9985185185185185,
          0.9985185185185185,
          0.9985185185185185,
          0.9985185185185185,
          0.9985185185185185,
          0.9985185185185185,
          0.9985185185185185,
          0.9985185185185185,
          0.9985185185185185,
          0.9985185185185185,
          0.9985185185185185,
          0.9985185185185185,
          0.9985185185185185,
          0.9985185185185185,
          0.9985185185185185,
          0.9985185185185185,
          0.9985185185185185,
          0.9985185185185185,
          0.9985185185185185,
          0.9985185185185185,
          0.9985185185185185,
          0.9985185185185185,
          0.9985185185185185,
          0.9985185185185185,
          0.9985185185185185,
          0.9985185185185185,
          0.9985185185185185,
          0.9985185185185185,
          0.9985185185185185,
          0.9985185185185185,
          0.9985185185185185,
          0.9985185185185185,
          0.9985185185185185,
          0.9985185185185185,
          0.9985185185185185,
          0.9985185185185185,
          0.9985185185185185,
          0.9985185185185185,
          0.9985185185185185,
          0.9985185185185185,
          0.9985185185185185,
          0.9985185185185185,
          0.9985185185185185,
          0.9985185185185185,
          0.9985185185185185,
          0.9985185185185185,
          0.9985185185185185,
          0.9985185185185185,
          0.9985185185185185,
          0.9985185185185185,
          0.9985185185185185,
          0.9985185185185185,
          0.9985185185185185,
          0.9985185185185185,
          0.9985185185185185,
          0.9985185185185185,
          0.9985185185185185,
          0.9985185185185185,
          0.9985185185185185,
          0.9985185185185185,
          0.9985185185185185,
          0.9985185185185185,
          0.9985185185185185,
          0.9985185185185185,
          0.9985185185185185,
          0.9985185185185185,
          0.9985185185185185,
          0.9985185185185185,
          0.9985185185185185,
          0.9985185185185185,
          0.9985185185185185,
          0.9985185185185185,
          0.9985185185185185,
          0.9985185185185185,
          0.9985185185185185,
          0.9985185185185185,
          0.9985185185185185,
          0.9985185185185185,
          0.9985185185185185,
          0.9985185185185185,
          0.9985185185185185,
          0.9985185185185185,
          0.9985185185185185,
          0.9985185185185185,
          0.9985185185185185,
          0.9985185185185185,
          0.9985185185185185,
          0.9985185185185185,
          0.9985185185185185,
          0.9985185185185185,
          0.9985185185185185,
          0.9985185185185185,
          0.9985185185185185,
          0.9985185185185185,
          0.9985185185185185,
          0.9985185185185185,
          0.9985185185185185,
          0.9985185185185185,
          0.9985185185185185,
          0.9985185185185185,
          0.9985185185185185,
          0.9985185185185185,
          0.9985185185185185,
          0.9985185185185185,
          0.9985185185185185,
          0.9985185185185185,
          0.9985185185185185,
          0.9985185185185185,
          0.9985185185185185,
          0.9985185185185185,
          0.9985185185185185,
          0.9985185185185185,
          0.9985185185185185,
          0.9985185185185185,
          0.9985185185185185,
          0.9985185185185185,
          0.9985185185185185,
          0.9985185185185185,
          0.9985185185185185,
          0.9985185185185185,
          0.9985185185185185,
          0.9985185185185185,
          0.9985185185185185,
          0.9985185185185185,
          0.9985185185185185,
          0.9985185185185185,
          0.9985185185185185,
          0.9985185185185185,
          0.9985185185185185,
          0.9985185185185185,
          0.9985185185185185,
          0.9985185185185185,
          0.9985185185185185,
          0.9985185185185185,
          0.9985185185185185,
          0.9985185185185185,
          0.9985185185185185,
          0.9985185185185185,
          0.9985185185185185,
          0.9985185185185185,
          0.9985185185185185,
          0.9985185185185185,
          0.9985185185185185,
          0.9985185185185185,
          0.9985185185185185,
          0.9985185185185185,
          0.9985185185185185,
          0.9985185185185185,
          0.9985185185185185,
          0.9985185185185185,
          0.9985185185185185,
          0.9985185185185185,
          0.9985185185185185,
          0.9985185185185185,
          0.9985185185185185,
          0.9985185185185185,
          0.9985185185185185,
          0.9985185185185185,
          0.9985185185185185,
          0.9985185185185185,
          0.9985185185185185,
          0.9985185185185185,
          0.9985185185185185,
          0.9985185185185185,
          0.9985185185185185,
          0.9985185185185185,
          0.9985185185185185,
          0.9985185185185185,
          0.9985185185185185,
          0.9985185185185185,
          0.9985185185185185,
          0.9985185185185185,
          0.9985185185185185,
          0.9985185185185185,
          0.9985185185185185,
          0.9985185185185185,
          0.9985185185185185,
          0.9985185185185185,
          0.9985185185185185,
          0.9985185185185185,
          0.9985185185185185,
          0.9985185185185185,
          0.9985185185185185,
          0.9985185185185185,
          0.9985185185185185,
          0.9985185185185185,
          0.9985185185185185,
          0.9985185185185185,
          0.9985185185185185,
          0.9985185185185185,
          0.9985185185185185,
          0.9985185185185185,
          0.9985185185185185,
          0.9985185185185185,
          0.9985185185185185,
          0.9985185185185185,
          0.9985185185185185,
          0.9985185185185185,
          0.9985185185185185,
          0.9985185185185185,
          0.9985185185185185,
          0.9985185185185185,
          0.9985185185185185,
          0.9985185185185185,
          0.9985185185185185,
          0.9985185185185185,
          0.9985185185185185,
          0.9985185185185185,
          0.9985185185185185,
          0.9985185185185185,
          0.9985185185185185,
          0.9985185185185185,
          0.9985185185185185,
          0.9985185185185185,
          0.9985185185185185,
          0.9985185185185185,
          0.9985185185185185,
          0.9985185185185185,
          0.9985185185185185,
          0.9985185185185185,
          0.9985185185185185,
          0.9985185185185185,
          0.9985185185185185,
          0.9985185185185185,
          0.9985185185185185,
          0.9985185185185185,
          0.9985185185185185,
          0.9985185185185185,
          0.9985185185185185,
          0.9985185185185185,
          0.9985185185185185,
          0.9985185185185185,
          0.9985185185185185,
          0.9985185185185185,
          0.9985185185185185,
          0.9985185185185185,
          0.9985185185185185,
          0.9985185185185185,
          0.9985185185185185,
          0.9985185185185185,
          0.9985185185185185,
          0.9985185185185185,
          0.9985185185185185,
          0.9985185185185185,
          0.9985185185185185,
          0.9985185185185185,
          0.9985185185185185,
          0.9985185185185185,
          0.9985185185185185,
          0.9985185185185185,
          0.9985185185185185,
          0.9985185185185185,
          0.9985185185185185,
          0.9985185185185185,
          0.9985185185185185,
          0.9985185185185185,
          0.9985185185185185,
          0.9985185185185185,
          0.9985185185185185,
          0.9985185185185185,
          0.9985185185185185,
          0.9985185185185185,
          0.9985185185185185,
          0.9985185185185185,
          0.9985185185185185,
          0.9985185185185185,
          0.9985185185185185,
          0.9985185185185185,
          0.9985185185185185,
          0.9985185185185185,
          0.9985185185185185,
          0.9985185185185185,
          0.9985185185185185,
          0.9985185185185185,
          0.9985185185185185,
          0.9985185185185185,
          0.9985185185185185,
          0.9985185185185185,
          0.9985185185185185,
          0.9985185185185185,
          0.9985185185185185,
          0.9985185185185185,
          0.9985185185185185,
          0.9985185185185185,
          0.9985185185185185,
          0.9985185185185185,
          0.9985185185185185,
          0.9985185185185185,
          0.9985185185185185,
          0.9985185185185185,
          0.9985185185185185,
          0.9985185185185185,
          0.9985185185185185,
          0.9985185185185185,
          0.9985185185185185,
          0.9985185185185185,
          0.9985185185185185,
          0.9985185185185185,
          0.9985185185185185,
          0.9985185185185185,
          0.9985185185185185,
          0.9985185185185185,
          0.9985185185185185,
          0.9985185185185185,
          0.9985185185185185,
          0.9985185185185185,
          0.9985185185185185,
          0.9985185185185185,
          0.9985185185185185,
          0.9985185185185185,
          0.9985185185185185,
          0.9985185185185185,
          0.9985185185185185,
          0.9985185185185185,
          0.9985185185185185,
          0.9985185185185185,
          0.9985185185185185,
          0.9985185185185185,
          0.9985185185185185,
          0.9985185185185185,
          0.9985185185185185,
          0.9985185185185185,
          0.9985185185185185,
          0.9985185185185185,
          0.9985185185185185,
          0.9985185185185185,
          0.9985185185185185,
          0.9985185185185185,
          0.9985185185185185,
          0.9985185185185185,
          0.9985185185185185,
          0.9985185185185185,
          0.9985185185185185,
          0.9985185185185185,
          0.9985185185185185,
          0.9985185185185185,
          0.9985185185185185,
          0.9985185185185185,
          0.9985185185185185,
          0.9985185185185185,
          0.9985185185185185,
          0.997037037037037,
          0.997037037037037,
          0.997037037037037,
          0.997037037037037,
          0.997037037037037,
          0.997037037037037,
          0.997037037037037,
          0.997037037037037,
          0.9955555555555555,
          0.9955555555555555,
          0.9955555555555555,
          0.9940740740740741,
          0.9940740740740741,
          0.9940740740740741,
          0.9925925925925926,
          0.9925925925925926,
          0.9911111111111112,
          0.9911111111111112,
          0.9896296296296296,
          0.9896296296296296,
          0.9851851851851852,
          0.9837037037037037,
          0.9822222222222222,
          0.9792592592592593,
          0.9777777777777777,
          0.9762962962962963,
          0.9748148148148148,
          0.9733333333333334,
          0.9718518518518519,
          0.9703703703703703,
          0.9688888888888889,
          0.9674074074074074,
          0.965925925925926,
          0.9644444444444444,
          0.9629629629629629,
          0.9614814814814815,
          0.96,
          0.9585185185185185,
          0.957037037037037,
          0.9555555555555556,
          0.9540740740740741,
          0.9525925925925925,
          0.9496296296296296,
          0.9481481481481482,
          0.9466666666666667,
          0.9451851851851852,
          0.9437037037037037,
          0.9422222222222222,
          0.9407407407407408,
          0.9392592592592592,
          0.9377777777777778,
          0.9362962962962963,
          0.9348148148148148,
          0.9333333333333333,
          0.9303703703703704,
          0.9274074074074075,
          0.9259259259259259,
          0.9244444444444444,
          0.922962962962963,
          0.9214814814814815,
          0.9185185185185185,
          0.917037037037037,
          0.9155555555555556,
          0.914074074074074,
          0.9125925925925926,
          0.9111111111111111,
          0.9096296296296297,
          0.9051851851851852,
          0.9037037037037037,
          0.9022222222222223,
          0.9007407407407407,
          0.8992592592592593,
          0.8977777777777778,
          0.8962962962962963,
          0.8948148148148148,
          0.8933333333333333,
          0.8903703703703704,
          0.8888888888888888,
          0.8874074074074074,
          0.8859259259259259,
          0.8844444444444445,
          0.882962962962963,
          0.8814814814814815,
          0.88,
          0.8785185185185185,
          0.8770370370370371,
          0.8755555555555555,
          0.8740740740740741,
          0.8725925925925926,
          0.8637037037037038,
          0.8622222222222222,
          0.8607407407407407,
          0.8592592592592593,
          0.8577777777777778,
          0.8562962962962963,
          0.8548148148148148,
          0.8533333333333334,
          0.8518518518518519,
          0.8503703703703703,
          0.8488888888888889,
          0.8474074074074074,
          0.845925925925926,
          0.8429629629629629,
          0.8414814814814815,
          0.84,
          0.837037037037037,
          0.8340740740740741,
          0.8325925925925926,
          0.8311111111111111,
          0.8296296296296296,
          0.8281481481481482,
          0.8266666666666667,
          0.8237037037037037,
          0.8222222222222222,
          0.8207407407407408,
          0.8177777777777778,
          0.8162962962962963,
          0.8148148148148148,
          0.8133333333333334,
          0.8088888888888889,
          0.8074074074074075,
          0.8059259259259259,
          0.8044444444444444,
          0.802962962962963,
          0.8014814814814815,
          0.8,
          0.7985185185185185,
          0.797037037037037,
          0.7955555555555556,
          0.794074074074074,
          0.7881481481481482,
          0.7866666666666666,
          0.7851851851851852,
          0.7837037037037037,
          0.7822222222222223,
          0.7807407407407407,
          0.7792592592592592,
          0.7777777777777778,
          0.7762962962962963,
          0.7748148148148148,
          0.7733333333333333,
          0.7718518518518519,
          0.7703703703703704,
          0.7688888888888888,
          0.7659259259259259,
          0.7644444444444445,
          0.762962962962963,
          0.7614814814814815,
          0.76,
          0.7585185185185185,
          0.7570370370370371,
          0.7555555555555555,
          0.7540740740740741,
          0.7525925925925926,
          0.7511111111111111,
          0.7496296296296296,
          0.7466666666666667,
          0.7451851851851852,
          0.7437037037037038,
          0.7422222222222222,
          0.7407407407407407,
          0.7392592592592593,
          0.7377777777777778,
          0.7362962962962963,
          0.7348148148148148,
          0.7333333333333333,
          0.7318518518518519,
          0.7303703703703703,
          0.7288888888888889,
          0.7274074074074074,
          0.7244444444444444,
          0.7214814814814815,
          0.72,
          0.7185185185185186,
          0.717037037037037,
          0.7155555555555555,
          0.7140740740740741,
          0.7125925925925926,
          0.7081481481481482,
          0.7066666666666667,
          0.7051851851851851,
          0.7037037037037037,
          0.7022222222222222,
          0.6977777777777778,
          0.6962962962962963,
          0.6903703703703704,
          0.6888888888888889,
          0.6874074074074074,
          0.6859259259259259,
          0.6844444444444444,
          0.682962962962963,
          0.6725925925925926,
          0.6711111111111111,
          0.6696296296296296,
          0.6681481481481482,
          0.6666666666666666,
          0.6651851851851852,
          0.6637037037037037,
          0.6622222222222223,
          0.6592592592592592,
          0.6488888888888888,
          0.6474074074074074,
          0.6459259259259259,
          0.6444444444444445,
          0.642962962962963,
          0.6414814814814814,
          0.64,
          0.6385185185185185,
          0.6370370370370371,
          0.6355555555555555,
          0.6340740740740741,
          0.6325925925925926,
          0.6311111111111111,
          0.6296296296296297,
          0.6281481481481481,
          0.6266666666666667,
          0.6251851851851852,
          0.6237037037037036,
          0.6222222222222222,
          0.6207407407407407,
          0.6192592592592593,
          0.6177777777777778,
          0.6162962962962963,
          0.6148148148148148,
          0.6133333333333333,
          0.6118518518518519,
          0.6103703703703703,
          0.6088888888888889,
          0.605925925925926,
          0.6044444444444445,
          0.6029629629629629,
          0.6014814814814815,
          0.6,
          0.5985185185185186,
          0.597037037037037,
          0.5955555555555555,
          0.5940740740740741,
          0.5925925925925926,
          0.5911111111111111,
          0.5881481481481482,
          0.5837037037037037,
          0.5822222222222222,
          0.5807407407407408,
          0.5792592592592593,
          0.5762962962962963,
          0.5659259259259259,
          0.5644444444444444,
          0.562962962962963,
          0.5614814814814815,
          0.5585185185185185,
          0.557037037037037,
          0.5555555555555556,
          0.554074074074074,
          0.5525925925925926,
          0.5511111111111111,
          0.5481481481481482,
          0.5466666666666666,
          0.5437037037037037,
          0.5407407407407407,
          0.5348148148148149,
          0.5333333333333333,
          0.5318518518518518,
          0.5288888888888889,
          0.5274074074074074,
          0.5259259259259259,
          0.5244444444444445,
          0.522962962962963,
          0.5214814814814814,
          0.52,
          0.5185185185185185,
          0.5170370370370371,
          0.5155555555555555,
          0.5140740740740741,
          0.5125925925925926,
          0.5111111111111111,
          0.5096296296296297,
          0.5051851851851852,
          0.5022222222222222,
          0.5007407407407407,
          0.49925925925925924,
          0.49777777777777776,
          0.4962962962962963,
          0.4948148148148148,
          0.4918518518518519,
          0.49037037037037035,
          0.4888888888888889,
          0.4874074074074074,
          0.48592592592592593,
          0.48444444444444446,
          0.482962962962963,
          0.48148148148148145,
          0.48,
          0.4785185185185185,
          0.47703703703703704,
          0.47555555555555556,
          0.4696296296296296,
          0.46814814814814815,
          0.46370370370370373,
          0.4622222222222222,
          0.46074074074074073,
          0.4562962962962963,
          0.45481481481481484,
          0.4533333333333333,
          0.45185185185185184,
          0.4488888888888889,
          0.4474074074074074,
          0.44592592592592595,
          0.4444444444444444,
          0.44296296296296295,
          0.4414814814814815,
          0.44,
          0.43851851851851853,
          0.43703703703703706,
          0.43407407407407406,
          0.4325925925925926,
          0.4311111111111111,
          0.42962962962962964,
          0.4266666666666667,
          0.42518518518518517,
          0.4237037037037037,
          0.4222222222222222,
          0.42074074074074075,
          0.4192592592592593,
          0.4177777777777778,
          0.4162962962962963,
          0.4148148148148148,
          0.41333333333333333,
          0.41185185185185186,
          0.4103703703703704,
          0.4074074074074074,
          0.4059259259259259,
          0.40296296296296297,
          0.4014814814814815,
          0.3985185185185185,
          0.3925925925925926,
          0.39111111111111113,
          0.38814814814814813,
          0.38666666666666666,
          0.3851851851851852,
          0.3837037037037037,
          0.38222222222222224,
          0.38074074074074077,
          0.3762962962962963,
          0.37037037037037035,
          0.3688888888888889,
          0.3674074074074074,
          0.36592592592592593,
          0.362962962962963,
          0.36148148148148146,
          0.3496296296296296,
          0.34814814814814815,
          0.3466666666666667,
          0.3451851851851852,
          0.3437037037037037,
          0.34074074074074073,
          0.33925925925925926,
          0.3377777777777778,
          0.3362962962962963,
          0.3348148148148148,
          0.3333333333333333,
          0.33185185185185184,
          0.33037037037037037,
          0.3274074074074074,
          0.32592592592592595,
          0.3244444444444444,
          0.3214814814814815,
          0.32,
          0.31851851851851853,
          0.31703703703703706,
          0.31555555555555553,
          0.31407407407407406,
          0.3111111111111111,
          0.30962962962962964,
          0.30518518518518517,
          0.3022222222222222,
          0.30074074074074075,
          0.2992592592592593,
          0.29777777777777775,
          0.2962962962962963,
          0.2903703703703704,
          0.28888888888888886,
          0.2874074074074074,
          0.2859259259259259,
          0.28444444444444444,
          0.28296296296296297,
          0.2814814814814815,
          0.28,
          0.2785185185185185,
          0.277037037037037,
          0.27555555555555555,
          0.2740740740740741,
          0.2725925925925926,
          0.27111111111111114,
          0.2696296296296296,
          0.26814814814814814,
          0.26666666666666666,
          0.2637037037037037,
          0.26222222222222225,
          0.2607407407407407,
          0.25925925925925924,
          0.2577777777777778,
          0.2562962962962963,
          0.2548148148148148,
          0.25333333333333335,
          0.25037037037037035,
          0.24888888888888888,
          0.2474074074074074,
          0.24592592592592594,
          0.24444444444444444,
          0.24296296296296296,
          0.2414814814814815,
          0.24,
          0.23851851851851852,
          0.23703703703703705,
          0.23407407407407407,
          0.2311111111111111,
          0.22962962962962963,
          0.22814814814814816,
          0.22666666666666666,
          0.21777777777777776,
          0.2162962962962963,
          0.21481481481481482,
          0.21333333333333335,
          0.21185185185185185,
          0.21037037037037037,
          0.2088888888888889,
          0.2074074074074074,
          0.20592592592592593,
          0.20444444444444446,
          0.20296296296296296,
          0.20148148148148148,
          0.1985185185185185,
          0.19703703703703704,
          0.19555555555555557,
          0.19407407407407407,
          0.1925925925925926,
          0.19111111111111112,
          0.18962962962962962,
          0.18814814814814815,
          0.18666666666666668,
          0.18518518518518517,
          0.18222222222222223,
          0.18074074074074073,
          0.17925925925925926,
          0.17777777777777778,
          0.1748148148148148,
          0.17333333333333334,
          0.17185185185185184,
          0.16592592592592592,
          0.16444444444444445,
          0.16296296296296298,
          0.16148148148148148,
          0.15851851851851853,
          0.15703703703703703,
          0.15555555555555556,
          0.15407407407407409,
          0.15259259259259259,
          0.1511111111111111,
          0.14962962962962964,
          0.14814814814814814,
          0.14666666666666667,
          0.1451851851851852,
          0.1437037037037037,
          0.14222222222222222,
          0.14074074074074075,
          0.13925925925925925,
          0.13777777777777778,
          0.1362962962962963,
          0.1348148148148148,
          0.13333333333333333,
          0.1288888888888889,
          0.1274074074074074,
          0.1259259259259259,
          0.12444444444444444,
          0.12296296296296297,
          0.12148148148148148,
          0.12,
          0.11851851851851852,
          0.11703703703703704,
          0.11555555555555555,
          0.11259259259259259,
          0.10518518518518519,
          0.1037037037037037,
          0.10222222222222223,
          0.09481481481481481,
          0.09333333333333334,
          0.09037037037037036,
          0.08444444444444445,
          0.08296296296296296,
          0.08,
          0.07703703703703704,
          0.07555555555555556,
          0.07407407407407407,
          0.07111111111111111,
          0.06814814814814815,
          0.06518518518518518,
          0.0637037037037037,
          0.06222222222222222,
          0.06074074074074074,
          0.05925925925925926,
          0.057777777777777775,
          0.056296296296296296,
          0.054814814814814816,
          0.05333333333333334,
          0.05185185185185185,
          0.05037037037037037,
          0.047407407407407405,
          0.045925925925925926,
          0.044444444444444446,
          0.04296296296296296,
          0.04148148148148148,
          0.04,
          0.037037037037037035,
          0.035555555555555556,
          0.034074074074074076,
          0.03259259259259259,
          0.03111111111111111,
          0.02962962962962963,
          0.02666666666666667,
          0.023703703703703703,
          0.022222222222222223,
          0.02074074074074074,
          0.01925925925925926,
          0.017777777777777778,
          0.014814814814814815,
          0.013333333333333334,
          0.011851851851851851,
          0.01037037037037037,
          0.007407407407407408,
          0.005925925925925926,
          0.002962962962962963,
          0.0014814814814814814,
          0
         ],
         "xaxis": "x",
         "y": [
          0.5369928400954654,
          0.5366242038216561,
          0.5370517928286852,
          0.5374800637958532,
          0.5379090183559457,
          0.5383386581469649,
          0.5387689848121503,
          0.5392,
          0.5396317053642914,
          0.5400641025641025,
          0.5404971932638332,
          0.5409309791332263,
          0.5413654618473895,
          0.5418006430868167,
          0.5422365245374094,
          0.5426731078904992,
          0.5431103948428686,
          0.5439870863599677,
          0.5444264943457189,
          0.5448666127728375,
          0.5453074433656958,
          0.545748987854251,
          0.546191247974068,
          0.5466342254663422,
          0.547077922077922,
          0.5475223395613322,
          0.5479674796747968,
          0.548413344182262,
          0.5488599348534202,
          0.5493072534637327,
          0.5497553017944535,
          0.5502040816326531,
          0.5506535947712419,
          0.5511038430089943,
          0.5515548281505729,
          0.552006552006552,
          0.5524590163934426,
          0.5529122231337161,
          0.5533661740558292,
          0.5538208709942481,
          0.5542763157894737,
          0.5547325102880658,
          0.5551894563426688,
          0.5556471558120363,
          0.5561056105610561,
          0.5565648224607762,
          0.5570247933884298,
          0.5574855252274608,
          0.5579470198675497,
          0.5584092792046396,
          0.5588723051409619,
          0.5593360995850623,
          0.5598006644518272,
          0.5602660016625104,
          0.5607321131447587,
          0.5611990008326395,
          0.5616666666666666,
          0.5621351125938282,
          0.5626043405676127,
          0.5630743525480367,
          0.5635451505016722,
          0.5640167364016736,
          0.5644891122278057,
          0.5649622799664711,
          0.5654362416107382,
          0.5659109991603695,
          0.5663865546218487,
          0.5668629100084104,
          0.5673400673400674,
          0.5682967959527825,
          0.5687763713080168,
          0.5692567567567568,
          0.569737954353339,
          0.5702199661590525,
          0.5707027942421676,
          0.5711864406779661,
          0.5721561969439728,
          0.572642310960068,
          0.5731292517006803,
          0.5736170212765958,
          0.5741056218057922,
          0.5745950554134698,
          0.5750853242320819,
          0.5755764304013663,
          0.576068376068376,
          0.5765611633875107,
          0.577054794520548,
          0.5775492716366752,
          0.5780445969125214,
          0.5785407725321888,
          0.5790378006872853,
          0.5795356835769562,
          0.5800344234079173,
          0.5805340223944875,
          0.5810344827586207,
          0.5815358067299397,
          0.5820379965457686,
          0.5825410544511668,
          0.583044982698962,
          0.5835497835497836,
          0.584055459272097,
          0.5845620121422377,
          0.5850694444444444,
          0.5855777584708949,
          0.5860869565217391,
          0.5865970409051349,
          0.5871080139372822,
          0.5876198779424586,
          0.5881326352530541,
          0.588646288209607,
          0.5891608391608392,
          0.5896762904636921,
          0.5901926444833625,
          0.5907099035933392,
          0.5912280701754385,
          0.591747146619842,
          0.5922671353251318,
          0.592788038698329,
          0.5933098591549296,
          0.5938325991189427,
          0.5948808473080318,
          0.5954063604240283,
          0.5959328028293546,
          0.5964601769911504,
          0.5969884853852967,
          0.5975177304964538,
          0.5980479148181012,
          0.5985790408525755,
          0.5991111111111111,
          0.599644128113879,
          0.6007130124777184,
          0.6012488849241748,
          0.603401969561325,
          0.6039426523297491,
          0.6044843049327354,
          0.6050269299820467,
          0.605570530098832,
          0.6061151079136691,
          0.6066606660666066,
          0.6072072072072072,
          0.6077547339945897,
          0.6083032490974729,
          0.6088527551942186,
          0.6094032549728752,
          0.6099547511312218,
          0.6105072463768116,
          0.6110607434270172,
          0.6116152450090744,
          0.6127272727272727,
          0.6132848043676069,
          0.6138433515482696,
          0.6144029170464904,
          0.614963503649635,
          0.6155251141552511,
          0.6160877513711152,
          0.616651418115279,
          0.6172161172161172,
          0.617781851512374,
          0.618348623853211,
          0.6189164370982553,
          0.6194852941176471,
          0.6200551977920883,
          0.6206261510128913,
          0.6211981566820276,
          0.6217712177121771,
          0.6223453370267775,
          0.6229205175600739,
          0.6234967622571693,
          0.6240740740740741,
          0.6246524559777572,
          0.6252319109461967,
          0.6258124419684308,
          0.6263940520446096,
          0.6269767441860465,
          0.62756052141527,
          0.6281453867660765,
          0.628731343283582,
          0.6293183940242764,
          0.6299065420560748,
          0.6340545625587959,
          0.6346516007532956,
          0.6352497643732328,
          0.6358490566037736,
          0.6388625592417062,
          0.6394686907020873,
          0.6400759734093068,
          0.6406844106463878,
          0.6412940057088488,
          0.6419047619047619,
          0.6425166825548141,
          0.6437440305635148,
          0.6443594646271511,
          0.6449760765550239,
          0.6455938697318008,
          0.6462128475551294,
          0.6468330134357005,
          0.6474543707973103,
          0.6480769230769231,
          0.6487006737247353,
          0.649325626204239,
          0.6499517839922855,
          0.6505791505791506,
          0.6512077294685991,
          0.6518375241779497,
          0.6524685382381413,
          0.6531007751937985,
          0.6537342386032978,
          0.654368932038835,
          0.6562804284323271,
          0.6569200779727096,
          0.6575609756097561,
          0.658203125,
          0.6588465298142717,
          0.6594911937377691,
          0.6601371204701273,
          0.6607843137254902,
          0.661432777232581,
          0.6962809917355371,
          0.6970010341261634,
          0.6977225672877847,
          0.6991701244813278,
          0.6998961578400831,
          0.7006237006237006,
          0.7013527575442248,
          0.7020833333333333,
          0.7028154327424401,
          0.7035490605427975,
          0.7042842215256009,
          0.7050209205020921,
          0.7057591623036649,
          0.7064989517819706,
          0.7072402938090241,
          0.7102212855637513,
          0.7109704641350211,
          0.7117212249208026,
          0.7124735729386892,
          0.7132275132275132,
          0.7139830508474576,
          0.7147401908801697,
          0.7154989384288747,
          0.7162592986184909,
          0.7170212765957447,
          0.7177848775292864,
          0.7193169690501601,
          0.7200854700854701,
          0.720855614973262,
          0.721627408993576,
          0.722400857449089,
          0.723175965665236,
          0.723952738990333,
          0.7247311827956989,
          0.7255113024757804,
          0.7262931034482759,
          0.727076591154261,
          0.7278617710583153,
          0.7286486486486486,
          0.7294372294372294,
          0.7302275189599133,
          0.7310195227765727,
          0.7318132464712269,
          0.7326086956521739,
          0.7334058759521219,
          0.7342047930283224,
          0.7350054525627044,
          0.7358078602620087,
          0.7366120218579235,
          0.737417943107221,
          0.7382256297918949,
          0.7390350877192983,
          0.7398463227222832,
          0.7406593406593407,
          0.7414741474147415,
          0.7422907488986784,
          0.743109151047409,
          0.7439293598233996,
          0.7447513812154696,
          0.745575221238938,
          0.7464008859357697,
          0.7472283813747228,
          0.7480577136514983,
          0.7488888888888889,
          0.7497219132369299,
          0.7505567928730512,
          0.7513935340022296,
          0.7522321428571429,
          0.753072625698324,
          0.7539149888143176,
          0.7547592385218365,
          0.7556053811659192,
          0.7564534231200898,
          0.7581552305961755,
          0.759009009009009,
          0.7615819209039548,
          0.7624434389140271,
          0.7633069082672707,
          0.764172335600907,
          0.7650397275822929,
          0.769406392694064,
          0.7702857142857142,
          0.7711670480549199,
          0.7720504009163803,
          0.7729357798165137,
          0.7738231917336394,
          0.774712643678161,
          0.7756041426927502,
          0.7764976958525346,
          0.7773933102652826,
          0.7782909930715936,
          0.7800925925925926,
          0.7809965237543454,
          0.7819025522041764,
          0.7828106852497096,
          0.7837209302325582,
          0.7846332945285215,
          0.7864644107351225,
          0.7873831775700935,
          0.7883040935672515,
          0.7892271662763466,
          0.7901524032825322,
          0.7910798122065728,
          0.7920094007050529,
          0.7929411764705883,
          0.7938751472320377,
          0.7948113207547169,
          0.7957497048406139,
          0.7966903073286052,
          0.7976331360946746,
          0.7985781990521327,
          0.7995255041518387,
          0.8004750593824228,
          0.8014268727705113,
          0.8023809523809524,
          0.8033373063170441,
          0.8042959427207638,
          0.8052568697729988,
          0.80622009569378,
          0.807185628742515,
          0.8081534772182254,
          0.8091236494597839,
          0.8100961538461539,
          0.8110709987966306,
          0.8120481927710843,
          0.8130277442702051,
          0.8140096618357487,
          0.814993954050786,
          0.8159806295399515,
          0.816969696969697,
          0.8179611650485437,
          0.818955042527339,
          0.8199513381995134,
          0.8209500609013398,
          0.8219512195121951,
          0.8229548229548229,
          0.823960880195599,
          0.824969400244798,
          0.8269938650306748,
          0.828009828009828,
          0.8290282902829028,
          0.8300492610837439,
          0.8310727496917386,
          0.8320987654320988,
          0.8393524283935243,
          0.8403990024937655,
          0.8414481897627965,
          0.8425,
          0.8435544430538173,
          0.849936948297604,
          0.851010101010101,
          0.8520859671302149,
          0.8564167725540025,
          0.8575063613231552,
          0.8585987261146497,
          0.8607918263090677,
          0.8618925831202046,
          0.8629961587708067,
          0.8641025641025641,
          0.865211810012837,
          0.8663239074550129,
          0.8674388674388674,
          0.8685567010309279,
          0.8696774193548387,
          0.8708010335917312,
          0.871927554980595,
          0.8730569948186528,
          0.874189364461738,
          0.8753246753246753,
          0.8764629388816645,
          0.8776041666666666,
          0.8821989528795812,
          0.8833551769331586,
          0.884514435695538,
          0.885676741130092,
          0.8868421052631579,
          0.8880105401844532,
          0.8891820580474934,
          0.9046979865771813,
          0.9059139784946236,
          0.9071332436069987,
          0.9083557951482479,
          0.9095816464237517,
          0.9108108108108108,
          0.912043301759134,
          0.9132791327913279,
          0.9145183175033921,
          0.9157608695652174,
          0.9170068027210885,
          0.9182561307901907,
          0.9195088676671214,
          0.9207650273224044,
          0.9220246238030095,
          0.9232876712328767,
          0.9245541838134431,
          0.9258241758241759,
          0.9270976616231087,
          0.928374655647383,
          0.9296551724137931,
          0.930939226519337,
          0.9322268326417704,
          0.9335180055401662,
          0.9348127600554785,
          0.9361111111111111,
          0.9374130737134909,
          0.9387186629526463,
          0.9400278940027894,
          0.9413407821229051,
          0.9426573426573427,
          0.9439775910364145,
          0.9453015427769986,
          0.9466292134831461,
          0.9479606188466948,
          0.9492957746478873,
          0.9506346967559943,
          0.9519774011299436,
          0.9533239038189534,
          0.9546742209631728,
          0.9560283687943263,
          0.9573863636363636,
          0.9587482219061166,
          0.9601139601139601,
          0.9614835948644793,
          0.9628571428571429,
          0.9642346208869814,
          0.9656160458452722,
          0.9670014347202296,
          0.9697841726618706,
          0.9711815561959655,
          0.9725829725829725,
          0.97677793904209,
          0.9781976744186046,
          0.9796215429403202,
          0.9810495626822158,
          0.9824817518248176,
          0.9839181286549707,
          0.9853587115666179,
          0.9868035190615836,
          0.986784140969163,
          0.9882352941176471,
          0.9911504424778761,
          0.9911373707533235,
          0.992603550295858,
          0.9940740740740741,
          0.9940652818991098,
          0.9955423476968797,
          0.9955357142857143,
          0.9970193740685543,
          0.9970149253731343,
          0.9985052316890882,
          1,
          1,
          1,
          1,
          1,
          1,
          1,
          1,
          1,
          1,
          1,
          1,
          1,
          1,
          1,
          1,
          1,
          1,
          1,
          1,
          1,
          1,
          1,
          1,
          1,
          1,
          1,
          1,
          1,
          1,
          1,
          1,
          1,
          1,
          1,
          1,
          1,
          1,
          1,
          1,
          1,
          1,
          1,
          1,
          1,
          1,
          1,
          1,
          1,
          1,
          1,
          1,
          1,
          1,
          1,
          1,
          1,
          1,
          1,
          1,
          1,
          1,
          1,
          1,
          1,
          1,
          1,
          1,
          1,
          1,
          1,
          1,
          1,
          1,
          1,
          1,
          1,
          1,
          1,
          1,
          1,
          1,
          1,
          1,
          1,
          1,
          1,
          1,
          1,
          1,
          1,
          1,
          1,
          1,
          1,
          1,
          1,
          1,
          1,
          1,
          1,
          1,
          1,
          1,
          1,
          1,
          1,
          1,
          1,
          1,
          1,
          1,
          1,
          1,
          1,
          1,
          1,
          1,
          1,
          1,
          1,
          1,
          1,
          1,
          1,
          1,
          1,
          1,
          1,
          1,
          1,
          1,
          1,
          1,
          1,
          1,
          1,
          1,
          1,
          1,
          1,
          1,
          1,
          1,
          1,
          1,
          1,
          1,
          1,
          1,
          1,
          1,
          1,
          1,
          1,
          1,
          1,
          1,
          1,
          1,
          1,
          1,
          1,
          1,
          1,
          1,
          1,
          1,
          1,
          1,
          1,
          1,
          1,
          1,
          1,
          1,
          1,
          1,
          1,
          1,
          1,
          1,
          1,
          1,
          1,
          1,
          1,
          1,
          1,
          1,
          1,
          1,
          1,
          1,
          1,
          1,
          1,
          1,
          1,
          1,
          1,
          1,
          1,
          1,
          1,
          1,
          1,
          1,
          1,
          1,
          1,
          1,
          1,
          1,
          1,
          1,
          1,
          1,
          1,
          1,
          1,
          1,
          1,
          1,
          1,
          1,
          1,
          1,
          1,
          1,
          1,
          1,
          1,
          1,
          1,
          1,
          1,
          1,
          1,
          1,
          1,
          1,
          1,
          1,
          1,
          1,
          1,
          1,
          1,
          1,
          1,
          1,
          1,
          1,
          1,
          1,
          1,
          1,
          1,
          1,
          1,
          1,
          1,
          1,
          1,
          1,
          1,
          1,
          1,
          1,
          1,
          1,
          1,
          1,
          1,
          1,
          1,
          1,
          1,
          1,
          1,
          1,
          1,
          1,
          1,
          1,
          1,
          1,
          1,
          1,
          1,
          1,
          1,
          1,
          1,
          1,
          1,
          1,
          1,
          1,
          1,
          1,
          1,
          1,
          1,
          1,
          1,
          1,
          1,
          1,
          1,
          1,
          1,
          1,
          1,
          1,
          1,
          1,
          1,
          1,
          1,
          1,
          1,
          1,
          1,
          1,
          1,
          1,
          1,
          1,
          1,
          1,
          1,
          1,
          1,
          1,
          1,
          1,
          1,
          1,
          1,
          1,
          1,
          1,
          1,
          1,
          1,
          1,
          1,
          1,
          1,
          1,
          1,
          1,
          1,
          1,
          1,
          1,
          1,
          1,
          1,
          1,
          1,
          1,
          1,
          1,
          1,
          1,
          1,
          1,
          1,
          1,
          1,
          1,
          1,
          1,
          1,
          1,
          1,
          1,
          1,
          1,
          1,
          1,
          1,
          1,
          1,
          1,
          1,
          1,
          1,
          1,
          1,
          1,
          1,
          1,
          1,
          1,
          1,
          1,
          1,
          1,
          1,
          1,
          1,
          1,
          1,
          1,
          1,
          1,
          1,
          1,
          1,
          1,
          1,
          1,
          1,
          1,
          1,
          1,
          1,
          1,
          1,
          1,
          1,
          1,
          1,
          1,
          1,
          1,
          1,
          1,
          1,
          1,
          1,
          1,
          1,
          1,
          1,
          1,
          1,
          1,
          1,
          1,
          1,
          1,
          1,
          1,
          1,
          1,
          1,
          1,
          1,
          1,
          1,
          1,
          1,
          1,
          1,
          1,
          1,
          1,
          1,
          1,
          1,
          1,
          1,
          1,
          1,
          1,
          1,
          1,
          1,
          1,
          1,
          1,
          1,
          1,
          1,
          1,
          1,
          1,
          1,
          1,
          1,
          1,
          1,
          1,
          1,
          1,
          1,
          1,
          1,
          1,
          1,
          1,
          1,
          1,
          1,
          1,
          1,
          1,
          1,
          1,
          1,
          1,
          1,
          1,
          1,
          1,
          1,
          1,
          1
         ],
         "yaxis": "y"
        }
       ],
       "layout": {
        "legend": {
         "tracegroupgap": 0
        },
        "shapes": [
         {
          "line": {
           "dash": "dash"
          },
          "type": "line",
          "x0": 0,
          "x1": 1,
          "y0": 1,
          "y1": 0
         }
        ],
        "template": {
         "data": {
          "bar": [
           {
            "error_x": {
             "color": "#2a3f5f"
            },
            "error_y": {
             "color": "#2a3f5f"
            },
            "marker": {
             "line": {
              "color": "#E5ECF6",
              "width": 0.5
             },
             "pattern": {
              "fillmode": "overlay",
              "size": 10,
              "solidity": 0.2
             }
            },
            "type": "bar"
           }
          ],
          "barpolar": [
           {
            "marker": {
             "line": {
              "color": "#E5ECF6",
              "width": 0.5
             },
             "pattern": {
              "fillmode": "overlay",
              "size": 10,
              "solidity": 0.2
             }
            },
            "type": "barpolar"
           }
          ],
          "carpet": [
           {
            "aaxis": {
             "endlinecolor": "#2a3f5f",
             "gridcolor": "white",
             "linecolor": "white",
             "minorgridcolor": "white",
             "startlinecolor": "#2a3f5f"
            },
            "baxis": {
             "endlinecolor": "#2a3f5f",
             "gridcolor": "white",
             "linecolor": "white",
             "minorgridcolor": "white",
             "startlinecolor": "#2a3f5f"
            },
            "type": "carpet"
           }
          ],
          "choropleth": [
           {
            "colorbar": {
             "outlinewidth": 0,
             "ticks": ""
            },
            "type": "choropleth"
           }
          ],
          "contour": [
           {
            "colorbar": {
             "outlinewidth": 0,
             "ticks": ""
            },
            "colorscale": [
             [
              0,
              "#0d0887"
             ],
             [
              0.1111111111111111,
              "#46039f"
             ],
             [
              0.2222222222222222,
              "#7201a8"
             ],
             [
              0.3333333333333333,
              "#9c179e"
             ],
             [
              0.4444444444444444,
              "#bd3786"
             ],
             [
              0.5555555555555556,
              "#d8576b"
             ],
             [
              0.6666666666666666,
              "#ed7953"
             ],
             [
              0.7777777777777778,
              "#fb9f3a"
             ],
             [
              0.8888888888888888,
              "#fdca26"
             ],
             [
              1,
              "#f0f921"
             ]
            ],
            "type": "contour"
           }
          ],
          "contourcarpet": [
           {
            "colorbar": {
             "outlinewidth": 0,
             "ticks": ""
            },
            "type": "contourcarpet"
           }
          ],
          "heatmap": [
           {
            "colorbar": {
             "outlinewidth": 0,
             "ticks": ""
            },
            "colorscale": [
             [
              0,
              "#0d0887"
             ],
             [
              0.1111111111111111,
              "#46039f"
             ],
             [
              0.2222222222222222,
              "#7201a8"
             ],
             [
              0.3333333333333333,
              "#9c179e"
             ],
             [
              0.4444444444444444,
              "#bd3786"
             ],
             [
              0.5555555555555556,
              "#d8576b"
             ],
             [
              0.6666666666666666,
              "#ed7953"
             ],
             [
              0.7777777777777778,
              "#fb9f3a"
             ],
             [
              0.8888888888888888,
              "#fdca26"
             ],
             [
              1,
              "#f0f921"
             ]
            ],
            "type": "heatmap"
           }
          ],
          "heatmapgl": [
           {
            "colorbar": {
             "outlinewidth": 0,
             "ticks": ""
            },
            "colorscale": [
             [
              0,
              "#0d0887"
             ],
             [
              0.1111111111111111,
              "#46039f"
             ],
             [
              0.2222222222222222,
              "#7201a8"
             ],
             [
              0.3333333333333333,
              "#9c179e"
             ],
             [
              0.4444444444444444,
              "#bd3786"
             ],
             [
              0.5555555555555556,
              "#d8576b"
             ],
             [
              0.6666666666666666,
              "#ed7953"
             ],
             [
              0.7777777777777778,
              "#fb9f3a"
             ],
             [
              0.8888888888888888,
              "#fdca26"
             ],
             [
              1,
              "#f0f921"
             ]
            ],
            "type": "heatmapgl"
           }
          ],
          "histogram": [
           {
            "marker": {
             "pattern": {
              "fillmode": "overlay",
              "size": 10,
              "solidity": 0.2
             }
            },
            "type": "histogram"
           }
          ],
          "histogram2d": [
           {
            "colorbar": {
             "outlinewidth": 0,
             "ticks": ""
            },
            "colorscale": [
             [
              0,
              "#0d0887"
             ],
             [
              0.1111111111111111,
              "#46039f"
             ],
             [
              0.2222222222222222,
              "#7201a8"
             ],
             [
              0.3333333333333333,
              "#9c179e"
             ],
             [
              0.4444444444444444,
              "#bd3786"
             ],
             [
              0.5555555555555556,
              "#d8576b"
             ],
             [
              0.6666666666666666,
              "#ed7953"
             ],
             [
              0.7777777777777778,
              "#fb9f3a"
             ],
             [
              0.8888888888888888,
              "#fdca26"
             ],
             [
              1,
              "#f0f921"
             ]
            ],
            "type": "histogram2d"
           }
          ],
          "histogram2dcontour": [
           {
            "colorbar": {
             "outlinewidth": 0,
             "ticks": ""
            },
            "colorscale": [
             [
              0,
              "#0d0887"
             ],
             [
              0.1111111111111111,
              "#46039f"
             ],
             [
              0.2222222222222222,
              "#7201a8"
             ],
             [
              0.3333333333333333,
              "#9c179e"
             ],
             [
              0.4444444444444444,
              "#bd3786"
             ],
             [
              0.5555555555555556,
              "#d8576b"
             ],
             [
              0.6666666666666666,
              "#ed7953"
             ],
             [
              0.7777777777777778,
              "#fb9f3a"
             ],
             [
              0.8888888888888888,
              "#fdca26"
             ],
             [
              1,
              "#f0f921"
             ]
            ],
            "type": "histogram2dcontour"
           }
          ],
          "mesh3d": [
           {
            "colorbar": {
             "outlinewidth": 0,
             "ticks": ""
            },
            "type": "mesh3d"
           }
          ],
          "parcoords": [
           {
            "line": {
             "colorbar": {
              "outlinewidth": 0,
              "ticks": ""
             }
            },
            "type": "parcoords"
           }
          ],
          "pie": [
           {
            "automargin": true,
            "type": "pie"
           }
          ],
          "scatter": [
           {
            "fillpattern": {
             "fillmode": "overlay",
             "size": 10,
             "solidity": 0.2
            },
            "type": "scatter"
           }
          ],
          "scatter3d": [
           {
            "line": {
             "colorbar": {
              "outlinewidth": 0,
              "ticks": ""
             }
            },
            "marker": {
             "colorbar": {
              "outlinewidth": 0,
              "ticks": ""
             }
            },
            "type": "scatter3d"
           }
          ],
          "scattercarpet": [
           {
            "marker": {
             "colorbar": {
              "outlinewidth": 0,
              "ticks": ""
             }
            },
            "type": "scattercarpet"
           }
          ],
          "scattergeo": [
           {
            "marker": {
             "colorbar": {
              "outlinewidth": 0,
              "ticks": ""
             }
            },
            "type": "scattergeo"
           }
          ],
          "scattergl": [
           {
            "marker": {
             "colorbar": {
              "outlinewidth": 0,
              "ticks": ""
             }
            },
            "type": "scattergl"
           }
          ],
          "scattermapbox": [
           {
            "marker": {
             "colorbar": {
              "outlinewidth": 0,
              "ticks": ""
             }
            },
            "type": "scattermapbox"
           }
          ],
          "scatterpolar": [
           {
            "marker": {
             "colorbar": {
              "outlinewidth": 0,
              "ticks": ""
             }
            },
            "type": "scatterpolar"
           }
          ],
          "scatterpolargl": [
           {
            "marker": {
             "colorbar": {
              "outlinewidth": 0,
              "ticks": ""
             }
            },
            "type": "scatterpolargl"
           }
          ],
          "scatterternary": [
           {
            "marker": {
             "colorbar": {
              "outlinewidth": 0,
              "ticks": ""
             }
            },
            "type": "scatterternary"
           }
          ],
          "surface": [
           {
            "colorbar": {
             "outlinewidth": 0,
             "ticks": ""
            },
            "colorscale": [
             [
              0,
              "#0d0887"
             ],
             [
              0.1111111111111111,
              "#46039f"
             ],
             [
              0.2222222222222222,
              "#7201a8"
             ],
             [
              0.3333333333333333,
              "#9c179e"
             ],
             [
              0.4444444444444444,
              "#bd3786"
             ],
             [
              0.5555555555555556,
              "#d8576b"
             ],
             [
              0.6666666666666666,
              "#ed7953"
             ],
             [
              0.7777777777777778,
              "#fb9f3a"
             ],
             [
              0.8888888888888888,
              "#fdca26"
             ],
             [
              1,
              "#f0f921"
             ]
            ],
            "type": "surface"
           }
          ],
          "table": [
           {
            "cells": {
             "fill": {
              "color": "#EBF0F8"
             },
             "line": {
              "color": "white"
             }
            },
            "header": {
             "fill": {
              "color": "#C8D4E3"
             },
             "line": {
              "color": "white"
             }
            },
            "type": "table"
           }
          ]
         },
         "layout": {
          "annotationdefaults": {
           "arrowcolor": "#2a3f5f",
           "arrowhead": 0,
           "arrowwidth": 1
          },
          "autotypenumbers": "strict",
          "coloraxis": {
           "colorbar": {
            "outlinewidth": 0,
            "ticks": ""
           }
          },
          "colorscale": {
           "diverging": [
            [
             0,
             "#8e0152"
            ],
            [
             0.1,
             "#c51b7d"
            ],
            [
             0.2,
             "#de77ae"
            ],
            [
             0.3,
             "#f1b6da"
            ],
            [
             0.4,
             "#fde0ef"
            ],
            [
             0.5,
             "#f7f7f7"
            ],
            [
             0.6,
             "#e6f5d0"
            ],
            [
             0.7,
             "#b8e186"
            ],
            [
             0.8,
             "#7fbc41"
            ],
            [
             0.9,
             "#4d9221"
            ],
            [
             1,
             "#276419"
            ]
           ],
           "sequential": [
            [
             0,
             "#0d0887"
            ],
            [
             0.1111111111111111,
             "#46039f"
            ],
            [
             0.2222222222222222,
             "#7201a8"
            ],
            [
             0.3333333333333333,
             "#9c179e"
            ],
            [
             0.4444444444444444,
             "#bd3786"
            ],
            [
             0.5555555555555556,
             "#d8576b"
            ],
            [
             0.6666666666666666,
             "#ed7953"
            ],
            [
             0.7777777777777778,
             "#fb9f3a"
            ],
            [
             0.8888888888888888,
             "#fdca26"
            ],
            [
             1,
             "#f0f921"
            ]
           ],
           "sequentialminus": [
            [
             0,
             "#0d0887"
            ],
            [
             0.1111111111111111,
             "#46039f"
            ],
            [
             0.2222222222222222,
             "#7201a8"
            ],
            [
             0.3333333333333333,
             "#9c179e"
            ],
            [
             0.4444444444444444,
             "#bd3786"
            ],
            [
             0.5555555555555556,
             "#d8576b"
            ],
            [
             0.6666666666666666,
             "#ed7953"
            ],
            [
             0.7777777777777778,
             "#fb9f3a"
            ],
            [
             0.8888888888888888,
             "#fdca26"
            ],
            [
             1,
             "#f0f921"
            ]
           ]
          },
          "colorway": [
           "#636efa",
           "#EF553B",
           "#00cc96",
           "#ab63fa",
           "#FFA15A",
           "#19d3f3",
           "#FF6692",
           "#B6E880",
           "#FF97FF",
           "#FECB52"
          ],
          "font": {
           "color": "#2a3f5f"
          },
          "geo": {
           "bgcolor": "white",
           "lakecolor": "white",
           "landcolor": "#E5ECF6",
           "showlakes": true,
           "showland": true,
           "subunitcolor": "white"
          },
          "hoverlabel": {
           "align": "left"
          },
          "hovermode": "closest",
          "mapbox": {
           "style": "light"
          },
          "paper_bgcolor": "white",
          "plot_bgcolor": "#E5ECF6",
          "polar": {
           "angularaxis": {
            "gridcolor": "white",
            "linecolor": "white",
            "ticks": ""
           },
           "bgcolor": "#E5ECF6",
           "radialaxis": {
            "gridcolor": "white",
            "linecolor": "white",
            "ticks": ""
           }
          },
          "scene": {
           "xaxis": {
            "backgroundcolor": "#E5ECF6",
            "gridcolor": "white",
            "gridwidth": 2,
            "linecolor": "white",
            "showbackground": true,
            "ticks": "",
            "zerolinecolor": "white"
           },
           "yaxis": {
            "backgroundcolor": "#E5ECF6",
            "gridcolor": "white",
            "gridwidth": 2,
            "linecolor": "white",
            "showbackground": true,
            "ticks": "",
            "zerolinecolor": "white"
           },
           "zaxis": {
            "backgroundcolor": "#E5ECF6",
            "gridcolor": "white",
            "gridwidth": 2,
            "linecolor": "white",
            "showbackground": true,
            "ticks": "",
            "zerolinecolor": "white"
           }
          },
          "shapedefaults": {
           "line": {
            "color": "#2a3f5f"
           }
          },
          "ternary": {
           "aaxis": {
            "gridcolor": "white",
            "linecolor": "white",
            "ticks": ""
           },
           "baxis": {
            "gridcolor": "white",
            "linecolor": "white",
            "ticks": ""
           },
           "bgcolor": "#E5ECF6",
           "caxis": {
            "gridcolor": "white",
            "linecolor": "white",
            "ticks": ""
           }
          },
          "title": {
           "x": 0.05
          },
          "xaxis": {
           "automargin": true,
           "gridcolor": "white",
           "linecolor": "white",
           "ticks": "",
           "title": {
            "standoff": 15
           },
           "zerolinecolor": "white",
           "zerolinewidth": 2
          },
          "yaxis": {
           "automargin": true,
           "gridcolor": "white",
           "linecolor": "white",
           "ticks": "",
           "title": {
            "standoff": 15
           },
           "zerolinecolor": "white",
           "zerolinewidth": 2
          }
         }
        },
        "title": {
         "text": "Precision-Recall Curve (AUC=0.9988)"
        },
        "xaxis": {
         "anchor": "y",
         "constrain": "domain",
         "domain": [
          0,
          1
         ],
         "title": {
          "text": "Recall"
         }
        },
        "yaxis": {
         "anchor": "x",
         "domain": [
          0,
          1
         ],
         "scaleanchor": "x",
         "scaleratio": 1,
         "title": {
          "text": "Precision"
         }
        }
       }
      }
     },
     "metadata": {},
     "output_type": "display_data"
    }
   ],
   "source": [
    "evaluate()"
   ]
  },
  {
   "cell_type": "code",
   "execution_count": null,
   "metadata": {},
   "outputs": [],
   "source": []
  },
  {
   "cell_type": "code",
   "execution_count": null,
   "metadata": {},
   "outputs": [],
   "source": []
  }
 ],
 "metadata": {
  "interpreter": {
   "hash": "c6e4e9f98eb68ad3b7c296f83d20e6de614cb42e90992a65aa266555a3137d0d"
  },
  "kernelspec": {
   "display_name": "Python 3.9.7 ('base')",
   "language": "python",
   "name": "python3"
  },
  "language_info": {
   "codemirror_mode": {
    "name": "ipython",
    "version": 3
   },
   "file_extension": ".py",
   "mimetype": "text/x-python",
   "name": "python",
   "nbconvert_exporter": "python",
   "pygments_lexer": "ipython3",
   "version": "3.9.7"
  },
  "orig_nbformat": 4
 },
 "nbformat": 4,
 "nbformat_minor": 2
}
