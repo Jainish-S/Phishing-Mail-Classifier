{
 "cells": [
  {
   "cell_type": "code",
   "execution_count": 1,
   "metadata": {},
   "outputs": [],
   "source": [
    "import os\n",
    "\n",
    "from pathlib import Path\n",
    "\n",
    "# Email Parser\n",
    "from email import policy\n",
    "from email.parser import BytesParser\n",
    "\n",
    "from sklearn.model_selection import StratifiedKFold\n",
    "\n",
    "import pandas as pd"
   ]
  },
  {
   "cell_type": "code",
   "execution_count": 32,
   "metadata": {},
   "outputs": [],
   "source": [
    "NORMAL_DIR = Path('./') / \"Phishing Dataset\" / \"normal\"\n",
    "PHISHING_DIR = Path('./') / \"Phishing Dataset\" / \"phishing\""
   ]
  },
  {
   "cell_type": "code",
   "execution_count": 116,
   "metadata": {},
   "outputs": [],
   "source": [
    "# Creating dataframe of required information\n",
    "\n",
    "df = pd.DataFrame()\n",
    "\n",
    "for file_name in os.listdir(NORMAL_DIR):\n",
    "\n",
    "  with open(f\"{NORMAL_DIR / file_name}\", 'rb') as fp:\n",
    "    f_path = fp.name  # Get file name\n",
    "    mail = BytesParser(policy=policy.default).parse(fp)\n",
    "\n",
    "  body = ''\n",
    "  \n",
    "  if mail.is_multipart():\n",
    "    for part in mail.walk():\n",
    "      ctype = part.get_content_type()\n",
    "      cdispo = str(part.get('Content-Disposition'))\n",
    "\n",
    "      if 'attachment' not in cdispo:\n",
    "        body = part.get_payload()\n",
    "  else:\n",
    "    body = mail.get_payload()\n",
    "    \n",
    "  subject = mail.get_all('subject')\n",
    "  from_ = mail.get_all('from')\n",
    "  content_type = mail.get_all('content-type')\n",
    "\n",
    "  temp_df = pd.DataFrame({\n",
    "    'label': 0,\n",
    "    'from': from_,\n",
    "    'content_type': content_type,\n",
    "    'f_path': f_path,\n",
    "    'subject': subject,\n",
    "    'body': body\n",
    "  }, index=[0])\n",
    "\n",
    "  df = pd.concat([df, temp_df], ignore_index=True)\n",
    "\n",
    "df.to_csv('normal_mails.csv', index_label=False)"
   ]
  },
  {
   "cell_type": "code",
   "execution_count": 136,
   "metadata": {},
   "outputs": [],
   "source": [
    "# .DS_Store file if there is any\n",
    "df = df.drop(380)"
   ]
  },
  {
   "cell_type": "code",
   "execution_count": 139,
   "metadata": {},
   "outputs": [],
   "source": [
    "df1 = pd.DataFrame()\n",
    "\n",
    "for file_name in os.listdir(PHISHING_DIR):\n",
    "\n",
    "  with open(f\"{PHISHING_DIR / file_name}\", 'rb') as fp:\n",
    "    f_path = fp.name  \n",
    "    mail = BytesParser().parse(fp)\n",
    "\n",
    "  body = ''\n",
    "  \n",
    "  if mail.is_multipart():\n",
    "    for part in mail.walk():\n",
    "      ctype = part.get_content_type()\n",
    "      cdispo = str(part.get('Content-Disposition'))\n",
    "\n",
    "      if 'attachment' not in cdispo:\n",
    "        body = part.get_payload()  # decode\n",
    "  else:\n",
    "    body = mail.get_payload()\n",
    "\n",
    "  subject = mail['subject']\n",
    "  from_ = mail['from']\n",
    "  content_type = mail['content-type']\n",
    "\n",
    "  temp_df = pd.DataFrame({\n",
    "    'label': 1,\n",
    "    'from': from_,\n",
    "    'content_type': content_type,\n",
    "    'f_path': f_path,\n",
    "    'subject': subject,\n",
    "    'body': body\n",
    "  }, index=[0])\n",
    "\n",
    "  df1 = pd.concat([df1, temp_df], ignore_index=True)\n",
    "\n",
    "df1.to_csv('phishing_mails.csv', index_label=False)"
   ]
  },
  {
   "cell_type": "code",
   "execution_count": 140,
   "metadata": {},
   "outputs": [],
   "source": [
    "df = pd.concat([df, df1], ignore_index=True)"
   ]
  },
  {
   "cell_type": "code",
   "execution_count": 141,
   "metadata": {},
   "outputs": [],
   "source": [
    "df = df.sample(frac=1, random_state=41).reset_index(drop=True)"
   ]
  },
  {
   "cell_type": "code",
   "execution_count": 145,
   "metadata": {},
   "outputs": [],
   "source": [
    "df.to_csv('dataset.csv', index_label=False)"
   ]
  },
  {
   "cell_type": "code",
   "execution_count": 142,
   "metadata": {},
   "outputs": [],
   "source": [
    "# skf = StratifiedKFold(n_splits=3)\n",
    "# for fold, (_, val) in enumerate(skf.split(X=df, y=df.label)):\n",
    "#   df.loc[val, \"kfold\"] = fold"
   ]
  },
  {
   "cell_type": "code",
   "execution_count": 143,
   "metadata": {},
   "outputs": [],
   "source": [
    "# train_df = df[(df.kfold==0.0) | (df.kfold==2.0)]\n",
    "# test_df = df[(df.kfold==1.0)]"
   ]
  },
  {
   "cell_type": "code",
   "execution_count": 144,
   "metadata": {},
   "outputs": [],
   "source": [
    "# train_df.reset_index(drop=True).to_csv('train_df.csv', index_label=False)\n",
    "# test_df.reset_index(drop=True).to_csv('test_df.csv', index_label=False)"
   ]
  }
 ],
 "metadata": {
  "interpreter": {
   "hash": "071f83251836d5bb3918d2af6501aef1a588d685a567aa45f470f25864dd9495"
  },
  "kernelspec": {
   "display_name": "Python 3.9.10 ('pytorch')",
   "language": "python",
   "name": "python3"
  },
  "language_info": {
   "codemirror_mode": {
    "name": "ipython",
    "version": 3
   },
   "file_extension": ".py",
   "mimetype": "text/x-python",
   "name": "python",
   "nbconvert_exporter": "python",
   "pygments_lexer": "ipython3",
   "version": "3.9.7"
  },
  "orig_nbformat": 4
 },
 "nbformat": 4,
 "nbformat_minor": 2
}
